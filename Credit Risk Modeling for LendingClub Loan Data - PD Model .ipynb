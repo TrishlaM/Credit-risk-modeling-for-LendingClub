{
 "cells": [
  {
   "cell_type": "markdown",
   "metadata": {},
   "source": [
    "### Importing libraries"
   ]
  },
  {
   "cell_type": "code",
   "execution_count": 1,
   "metadata": {},
   "outputs": [],
   "source": [
    "import numpy as np\n",
    "import pandas as pd\n",
    "import os\n",
    "os.chdir(r'C:\\Users\\trish\\Important Docs\\Credit Risk Modeling')"
   ]
  },
  {
   "cell_type": "markdown",
   "metadata": {},
   "source": [
    "#### Import dataset"
   ]
  },
  {
   "cell_type": "code",
   "execution_count": 2,
   "metadata": {},
   "outputs": [
    {
     "name": "stderr",
     "output_type": "stream",
     "text": [
      "C:\\ProgramData\\Anaconda3\\lib\\site-packages\\IPython\\core\\interactiveshell.py:3020: DtypeWarning: Columns (55) have mixed types. Specify dtype option on import or set low_memory=False.\n",
      "  interactivity=interactivity, compiler=compiler, result=result)\n"
     ]
    }
   ],
   "source": [
    "X_train = pd.read_csv('X_train.csv')\n",
    "X_test = pd.read_csv('X_test.csv')\n",
    "Y_train = pd.read_csv('y_train.csv',  header = None)\n",
    "Y_test = pd.read_csv('y_test.csv',  header = None)"
   ]
  },
  {
   "cell_type": "markdown",
   "metadata": {},
   "source": [
    "#### Explore data"
   ]
  },
  {
   "cell_type": "code",
   "execution_count": 3,
   "metadata": {},
   "outputs": [
    {
     "data": {
      "text/html": [
       "<div>\n",
       "<style scoped>\n",
       "    .dataframe tbody tr th:only-of-type {\n",
       "        vertical-align: middle;\n",
       "    }\n",
       "\n",
       "    .dataframe tbody tr th {\n",
       "        vertical-align: top;\n",
       "    }\n",
       "\n",
       "    .dataframe thead th {\n",
       "        text-align: right;\n",
       "    }\n",
       "</style>\n",
       "<table border=\"1\" class=\"dataframe\">\n",
       "  <thead>\n",
       "    <tr style=\"text-align: right;\">\n",
       "      <th></th>\n",
       "      <th>id</th>\n",
       "      <th>member_id</th>\n",
       "      <th>loan_amnt</th>\n",
       "      <th>funded_amnt</th>\n",
       "      <th>funded_amnt_inv</th>\n",
       "      <th>term</th>\n",
       "      <th>int_rate</th>\n",
       "      <th>installment</th>\n",
       "      <th>grade</th>\n",
       "      <th>sub_grade</th>\n",
       "      <th>...</th>\n",
       "      <th>annual_inc_factor_60K_80K</th>\n",
       "      <th>annual_inc_factor_80K_100K</th>\n",
       "      <th>annual_inc_factor_100K_120K</th>\n",
       "      <th>annual_inc_factor_120K_140K</th>\n",
       "      <th>annual_inc_factor_&gt;140K</th>\n",
       "      <th>mths_since_last_delinq_missing</th>\n",
       "      <th>mths_since_last_delinq_0_3</th>\n",
       "      <th>mths_since_last_delinq_4_30</th>\n",
       "      <th>mths_since_last_delinq_31_56</th>\n",
       "      <th>mths_since_last_delinq_&gt;57</th>\n",
       "    </tr>\n",
       "  </thead>\n",
       "  <tbody>\n",
       "    <tr>\n",
       "      <th>0</th>\n",
       "      <td>9674904</td>\n",
       "      <td>11527040</td>\n",
       "      <td>18000.0</td>\n",
       "      <td>18000.0</td>\n",
       "      <td>18000.0</td>\n",
       "      <td>36 months</td>\n",
       "      <td>10.99</td>\n",
       "      <td>589.22</td>\n",
       "      <td>B</td>\n",
       "      <td>B2</td>\n",
       "      <td>...</td>\n",
       "      <td>1</td>\n",
       "      <td>0</td>\n",
       "      <td>0</td>\n",
       "      <td>0</td>\n",
       "      <td>0</td>\n",
       "      <td>1</td>\n",
       "      <td>0</td>\n",
       "      <td>0</td>\n",
       "      <td>0</td>\n",
       "      <td>0</td>\n",
       "    </tr>\n",
       "    <tr>\n",
       "      <th>1</th>\n",
       "      <td>1273509</td>\n",
       "      <td>1516907</td>\n",
       "      <td>17975.0</td>\n",
       "      <td>17975.0</td>\n",
       "      <td>17975.0</td>\n",
       "      <td>36 months</td>\n",
       "      <td>18.55</td>\n",
       "      <td>654.81</td>\n",
       "      <td>D</td>\n",
       "      <td>D4</td>\n",
       "      <td>...</td>\n",
       "      <td>0</td>\n",
       "      <td>0</td>\n",
       "      <td>0</td>\n",
       "      <td>0</td>\n",
       "      <td>0</td>\n",
       "      <td>1</td>\n",
       "      <td>0</td>\n",
       "      <td>0</td>\n",
       "      <td>0</td>\n",
       "      <td>0</td>\n",
       "    </tr>\n",
       "    <tr>\n",
       "      <th>2</th>\n",
       "      <td>51926692</td>\n",
       "      <td>55356419</td>\n",
       "      <td>6000.0</td>\n",
       "      <td>6000.0</td>\n",
       "      <td>6000.0</td>\n",
       "      <td>36 months</td>\n",
       "      <td>12.69</td>\n",
       "      <td>201.27</td>\n",
       "      <td>C</td>\n",
       "      <td>C2</td>\n",
       "      <td>...</td>\n",
       "      <td>0</td>\n",
       "      <td>0</td>\n",
       "      <td>0</td>\n",
       "      <td>0</td>\n",
       "      <td>0</td>\n",
       "      <td>0</td>\n",
       "      <td>0</td>\n",
       "      <td>1</td>\n",
       "      <td>0</td>\n",
       "      <td>0</td>\n",
       "    </tr>\n",
       "    <tr>\n",
       "      <th>3</th>\n",
       "      <td>46825275</td>\n",
       "      <td>49973088</td>\n",
       "      <td>6500.0</td>\n",
       "      <td>6500.0</td>\n",
       "      <td>6500.0</td>\n",
       "      <td>36 months</td>\n",
       "      <td>9.99</td>\n",
       "      <td>209.71</td>\n",
       "      <td>B</td>\n",
       "      <td>B3</td>\n",
       "      <td>...</td>\n",
       "      <td>0</td>\n",
       "      <td>1</td>\n",
       "      <td>0</td>\n",
       "      <td>0</td>\n",
       "      <td>0</td>\n",
       "      <td>0</td>\n",
       "      <td>0</td>\n",
       "      <td>1</td>\n",
       "      <td>0</td>\n",
       "      <td>0</td>\n",
       "    </tr>\n",
       "    <tr>\n",
       "      <th>4</th>\n",
       "      <td>3146847</td>\n",
       "      <td>3859163</td>\n",
       "      <td>11325.0</td>\n",
       "      <td>11325.0</td>\n",
       "      <td>11325.0</td>\n",
       "      <td>36 months</td>\n",
       "      <td>14.09</td>\n",
       "      <td>387.56</td>\n",
       "      <td>B</td>\n",
       "      <td>B5</td>\n",
       "      <td>...</td>\n",
       "      <td>0</td>\n",
       "      <td>0</td>\n",
       "      <td>0</td>\n",
       "      <td>0</td>\n",
       "      <td>0</td>\n",
       "      <td>0</td>\n",
       "      <td>0</td>\n",
       "      <td>0</td>\n",
       "      <td>0</td>\n",
       "      <td>1</td>\n",
       "    </tr>\n",
       "  </tbody>\n",
       "</table>\n",
       "<p>5 rows × 263 columns</p>\n",
       "</div>"
      ],
      "text/plain": [
       "         id  member_id  loan_amnt  funded_amnt  funded_amnt_inv        term  \\\n",
       "0   9674904   11527040    18000.0      18000.0          18000.0   36 months   \n",
       "1   1273509    1516907    17975.0      17975.0          17975.0   36 months   \n",
       "2  51926692   55356419     6000.0       6000.0           6000.0   36 months   \n",
       "3  46825275   49973088     6500.0       6500.0           6500.0   36 months   \n",
       "4   3146847    3859163    11325.0      11325.0          11325.0   36 months   \n",
       "\n",
       "   int_rate  installment grade sub_grade            ...              \\\n",
       "0     10.99       589.22     B        B2            ...               \n",
       "1     18.55       654.81     D        D4            ...               \n",
       "2     12.69       201.27     C        C2            ...               \n",
       "3      9.99       209.71     B        B3            ...               \n",
       "4     14.09       387.56     B        B5            ...               \n",
       "\n",
       "  annual_inc_factor_60K_80K annual_inc_factor_80K_100K  \\\n",
       "0                         1                          0   \n",
       "1                         0                          0   \n",
       "2                         0                          0   \n",
       "3                         0                          1   \n",
       "4                         0                          0   \n",
       "\n",
       "  annual_inc_factor_100K_120K  annual_inc_factor_120K_140K  \\\n",
       "0                           0                            0   \n",
       "1                           0                            0   \n",
       "2                           0                            0   \n",
       "3                           0                            0   \n",
       "4                           0                            0   \n",
       "\n",
       "  annual_inc_factor_>140K mths_since_last_delinq_missing  \\\n",
       "0                       0                              1   \n",
       "1                       0                              1   \n",
       "2                       0                              0   \n",
       "3                       0                              0   \n",
       "4                       0                              0   \n",
       "\n",
       "  mths_since_last_delinq_0_3 mths_since_last_delinq_4_30  \\\n",
       "0                          0                           0   \n",
       "1                          0                           0   \n",
       "2                          0                           1   \n",
       "3                          0                           1   \n",
       "4                          0                           0   \n",
       "\n",
       "  mths_since_last_delinq_31_56 mths_since_last_delinq_>57  \n",
       "0                            0                          0  \n",
       "1                            0                          0  \n",
       "2                            0                          0  \n",
       "3                            0                          0  \n",
       "4                            0                          1  \n",
       "\n",
       "[5 rows x 263 columns]"
      ]
     },
     "execution_count": 3,
     "metadata": {},
     "output_type": "execute_result"
    }
   ],
   "source": [
    "X_train.head()"
   ]
  },
  {
   "cell_type": "code",
   "execution_count": 4,
   "metadata": {},
   "outputs": [
    {
     "data": {
      "text/html": [
       "<div>\n",
       "<style scoped>\n",
       "    .dataframe tbody tr th:only-of-type {\n",
       "        vertical-align: middle;\n",
       "    }\n",
       "\n",
       "    .dataframe tbody tr th {\n",
       "        vertical-align: top;\n",
       "    }\n",
       "\n",
       "    .dataframe thead th {\n",
       "        text-align: right;\n",
       "    }\n",
       "</style>\n",
       "<table border=\"1\" class=\"dataframe\">\n",
       "  <thead>\n",
       "    <tr style=\"text-align: right;\">\n",
       "      <th></th>\n",
       "      <th>0</th>\n",
       "    </tr>\n",
       "  </thead>\n",
       "  <tbody>\n",
       "    <tr>\n",
       "      <th>0</th>\n",
       "      <td>1</td>\n",
       "    </tr>\n",
       "    <tr>\n",
       "      <th>1</th>\n",
       "      <td>0</td>\n",
       "    </tr>\n",
       "    <tr>\n",
       "      <th>2</th>\n",
       "      <td>1</td>\n",
       "    </tr>\n",
       "    <tr>\n",
       "      <th>3</th>\n",
       "      <td>1</td>\n",
       "    </tr>\n",
       "    <tr>\n",
       "      <th>4</th>\n",
       "      <td>1</td>\n",
       "    </tr>\n",
       "  </tbody>\n",
       "</table>\n",
       "</div>"
      ],
      "text/plain": [
       "   0\n",
       "0  1\n",
       "1  0\n",
       "2  1\n",
       "3  1\n",
       "4  1"
      ]
     },
     "execution_count": 4,
     "metadata": {},
     "output_type": "execute_result"
    }
   ],
   "source": [
    "Y_train.head()"
   ]
  },
  {
   "cell_type": "code",
   "execution_count": 5,
   "metadata": {},
   "outputs": [
    {
     "data": {
      "text/plain": [
       "(709903, 263)"
      ]
     },
     "execution_count": 5,
     "metadata": {},
     "output_type": "execute_result"
    }
   ],
   "source": [
    "X_train.shape"
   ]
  },
  {
   "cell_type": "code",
   "execution_count": 6,
   "metadata": {},
   "outputs": [
    {
     "data": {
      "text/plain": [
       "(709903, 1)"
      ]
     },
     "execution_count": 6,
     "metadata": {},
     "output_type": "execute_result"
    }
   ],
   "source": [
    "Y_train.shape"
   ]
  },
  {
   "cell_type": "code",
   "execution_count": 7,
   "metadata": {},
   "outputs": [
    {
     "data": {
      "text/plain": [
       "(177476, 263)"
      ]
     },
     "execution_count": 7,
     "metadata": {},
     "output_type": "execute_result"
    }
   ],
   "source": [
    "X_test.shape"
   ]
  },
  {
   "cell_type": "code",
   "execution_count": 8,
   "metadata": {},
   "outputs": [
    {
     "data": {
      "text/plain": [
       "(177476, 1)"
      ]
     },
     "execution_count": 8,
     "metadata": {},
     "output_type": "execute_result"
    }
   ],
   "source": [
    "Y_test.shape"
   ]
  },
  {
   "cell_type": "code",
   "execution_count": 9,
   "metadata": {},
   "outputs": [],
   "source": [
    "list_cat_var = ['grade_A',\n",
    "'grade_B',\n",
    "'grade_C',\n",
    "'grade_D',\n",
    "'grade_E',\n",
    "'grade_F',\n",
    "'grade_G',\n",
    "'home_ownership_MORTGAGE',\n",
    "'home_ownership_OWN',\n",
    "'home_ownership_RENT_OTHER_NONE_ANY',\n",
    "'addr_state_IA_NV_HI_FL_AL_SD',\n",
    "'addr_state_NM_NY',\n",
    "'addr_state_UT_CA',\n",
    "'addr_state_DC_VT_MS_NE_ND_ME',\n",
    "'addr_state_VA_NJ_LA_MO_NC_MD',\n",
    "'addr_state_OK_AZ_DE_RI_PA_MA',\n",
    "'addr_state_OTHERS',\n",
    "'verification_status_Not Verified',\n",
    "'verification_status_Source Verified',\n",
    "'verification_status_Verified',\n",
    "'purpose_educational_small_business',\n",
    "'purpose_wedding_renewable_energy',\n",
    "'purpose_house_moving',\n",
    "'purpose_medical_vacation_debt_consolidation_major_purchase',\n",
    "'purpose_car_home_improvement',\n",
    "'initial_list_status_f',\n",
    "'initial_list_status_w',\n",
    "'term_36',\n",
    "'term_60',\n",
    "'emp_length_0',\n",
    "'emp_length_1_2_3_4',\n",
    "'emp_length_5',\n",
    "'emp_length_6',\n",
    "'emp_length_7',\n",
    "'emp_length_8',\n",
    "'emp_length_9',\n",
    "'emp_length_10',\n",
    "'mnths_since_issue_d_factor_<54',\n",
    "'mnths_since_issue_d_factor_54_56',\n",
    "'mnths_since_issue_d_factor_56_58',\n",
    "'mnths_since_issue_d_factor_58_60',\n",
    "'mnths_since_issue_d_factor_60_62',\n",
    "'mnths_since_issue_d_factor_62_72',\n",
    "'mnths_since_issue_d_factor_72_82',\n",
    "'mnths_since_issue_d_factor_>82',\n",
    "'int_rate_factor_<10',\n",
    "'int_rate_factor_10_15',\n",
    "'int_rate_factor_15_20',\n",
    "'int_rate_factor_>20',\n",
    "'mnths_since_earliest_cr_line_factor_<160',\n",
    "'mnths_since_earliest_cr_line_factor_160_343',\n",
    "'mnths_since_earliest_cr_line_factor_343_571',\n",
    "'mnths_since_earliest_cr_line_factor_>571',\n",
    "'annual_inc_factor_<40K',\n",
    "'annual_inc_factor_40K_60K',\n",
    "'annual_inc_factor_60K_80K',\n",
    "'annual_inc_factor_80K_100K',\n",
    "'annual_inc_factor_100K_120K',\n",
    "'annual_inc_factor_120K_140K',\n",
    "'annual_inc_factor_>140K',\n",
    "'mths_since_last_delinq_missing',\n",
    "'mths_since_last_delinq_0_3',\n",
    "'mths_since_last_delinq_4_30',\n",
    "'mths_since_last_delinq_31_56',\n",
    "'mths_since_last_delinq_>57']"
   ]
  },
  {
   "cell_type": "code",
   "execution_count": 10,
   "metadata": {},
   "outputs": [],
   "source": [
    "train_ref_cat = X_train.loc[:, list_cat_var]"
   ]
  },
  {
   "cell_type": "code",
   "execution_count": 11,
   "metadata": {},
   "outputs": [],
   "source": [
    "list_ref_var = ['grade_G',\n",
    "'home_ownership_RENT_OTHER_NONE_ANY',\n",
    "'addr_state_IA_NV_HI_FL_AL_SD',\n",
    "'verification_status_Verified',\n",
    "'purpose_educational_small_business',\n",
    "'initial_list_status_f',\n",
    "'term_60',\n",
    "'emp_length_0',\n",
    "'mnths_since_issue_d_factor_>82',\n",
    "'int_rate_factor_>20',\n",
    "'mnths_since_earliest_cr_line_factor_>571',\n",
    "'annual_inc_factor_<40K',\n",
    "'mths_since_last_delinq_0_3']"
   ]
  },
  {
   "cell_type": "code",
   "execution_count": 12,
   "metadata": {},
   "outputs": [
    {
     "data": {
      "text/html": [
       "<div>\n",
       "<style scoped>\n",
       "    .dataframe tbody tr th:only-of-type {\n",
       "        vertical-align: middle;\n",
       "    }\n",
       "\n",
       "    .dataframe tbody tr th {\n",
       "        vertical-align: top;\n",
       "    }\n",
       "\n",
       "    .dataframe thead th {\n",
       "        text-align: right;\n",
       "    }\n",
       "</style>\n",
       "<table border=\"1\" class=\"dataframe\">\n",
       "  <thead>\n",
       "    <tr style=\"text-align: right;\">\n",
       "      <th></th>\n",
       "      <th>grade_A</th>\n",
       "      <th>grade_B</th>\n",
       "      <th>grade_C</th>\n",
       "      <th>grade_D</th>\n",
       "      <th>grade_E</th>\n",
       "      <th>grade_F</th>\n",
       "      <th>home_ownership_MORTGAGE</th>\n",
       "      <th>home_ownership_OWN</th>\n",
       "      <th>addr_state_NM_NY</th>\n",
       "      <th>addr_state_UT_CA</th>\n",
       "      <th>...</th>\n",
       "      <th>annual_inc_factor_40K_60K</th>\n",
       "      <th>annual_inc_factor_60K_80K</th>\n",
       "      <th>annual_inc_factor_80K_100K</th>\n",
       "      <th>annual_inc_factor_100K_120K</th>\n",
       "      <th>annual_inc_factor_120K_140K</th>\n",
       "      <th>annual_inc_factor_&gt;140K</th>\n",
       "      <th>mths_since_last_delinq_missing</th>\n",
       "      <th>mths_since_last_delinq_4_30</th>\n",
       "      <th>mths_since_last_delinq_31_56</th>\n",
       "      <th>mths_since_last_delinq_&gt;57</th>\n",
       "    </tr>\n",
       "  </thead>\n",
       "  <tbody>\n",
       "    <tr>\n",
       "      <th>0</th>\n",
       "      <td>0</td>\n",
       "      <td>1</td>\n",
       "      <td>0</td>\n",
       "      <td>0</td>\n",
       "      <td>0</td>\n",
       "      <td>0</td>\n",
       "      <td>0</td>\n",
       "      <td>0</td>\n",
       "      <td>0</td>\n",
       "      <td>0</td>\n",
       "      <td>...</td>\n",
       "      <td>0</td>\n",
       "      <td>1</td>\n",
       "      <td>0</td>\n",
       "      <td>0</td>\n",
       "      <td>0</td>\n",
       "      <td>0</td>\n",
       "      <td>1</td>\n",
       "      <td>0</td>\n",
       "      <td>0</td>\n",
       "      <td>0</td>\n",
       "    </tr>\n",
       "    <tr>\n",
       "      <th>1</th>\n",
       "      <td>0</td>\n",
       "      <td>0</td>\n",
       "      <td>0</td>\n",
       "      <td>1</td>\n",
       "      <td>0</td>\n",
       "      <td>0</td>\n",
       "      <td>0</td>\n",
       "      <td>0</td>\n",
       "      <td>0</td>\n",
       "      <td>0</td>\n",
       "      <td>...</td>\n",
       "      <td>1</td>\n",
       "      <td>0</td>\n",
       "      <td>0</td>\n",
       "      <td>0</td>\n",
       "      <td>0</td>\n",
       "      <td>0</td>\n",
       "      <td>1</td>\n",
       "      <td>0</td>\n",
       "      <td>0</td>\n",
       "      <td>0</td>\n",
       "    </tr>\n",
       "    <tr>\n",
       "      <th>2</th>\n",
       "      <td>0</td>\n",
       "      <td>0</td>\n",
       "      <td>1</td>\n",
       "      <td>0</td>\n",
       "      <td>0</td>\n",
       "      <td>0</td>\n",
       "      <td>0</td>\n",
       "      <td>0</td>\n",
       "      <td>0</td>\n",
       "      <td>0</td>\n",
       "      <td>...</td>\n",
       "      <td>0</td>\n",
       "      <td>0</td>\n",
       "      <td>0</td>\n",
       "      <td>0</td>\n",
       "      <td>0</td>\n",
       "      <td>0</td>\n",
       "      <td>0</td>\n",
       "      <td>1</td>\n",
       "      <td>0</td>\n",
       "      <td>0</td>\n",
       "    </tr>\n",
       "    <tr>\n",
       "      <th>3</th>\n",
       "      <td>0</td>\n",
       "      <td>1</td>\n",
       "      <td>0</td>\n",
       "      <td>0</td>\n",
       "      <td>0</td>\n",
       "      <td>0</td>\n",
       "      <td>1</td>\n",
       "      <td>0</td>\n",
       "      <td>1</td>\n",
       "      <td>0</td>\n",
       "      <td>...</td>\n",
       "      <td>0</td>\n",
       "      <td>0</td>\n",
       "      <td>1</td>\n",
       "      <td>0</td>\n",
       "      <td>0</td>\n",
       "      <td>0</td>\n",
       "      <td>0</td>\n",
       "      <td>1</td>\n",
       "      <td>0</td>\n",
       "      <td>0</td>\n",
       "    </tr>\n",
       "    <tr>\n",
       "      <th>4</th>\n",
       "      <td>0</td>\n",
       "      <td>1</td>\n",
       "      <td>0</td>\n",
       "      <td>0</td>\n",
       "      <td>0</td>\n",
       "      <td>0</td>\n",
       "      <td>1</td>\n",
       "      <td>0</td>\n",
       "      <td>0</td>\n",
       "      <td>0</td>\n",
       "      <td>...</td>\n",
       "      <td>0</td>\n",
       "      <td>0</td>\n",
       "      <td>0</td>\n",
       "      <td>0</td>\n",
       "      <td>0</td>\n",
       "      <td>0</td>\n",
       "      <td>0</td>\n",
       "      <td>0</td>\n",
       "      <td>0</td>\n",
       "      <td>1</td>\n",
       "    </tr>\n",
       "  </tbody>\n",
       "</table>\n",
       "<p>5 rows × 52 columns</p>\n",
       "</div>"
      ],
      "text/plain": [
       "   grade_A  grade_B  grade_C  grade_D  grade_E  grade_F  \\\n",
       "0        0        1        0        0        0        0   \n",
       "1        0        0        0        1        0        0   \n",
       "2        0        0        1        0        0        0   \n",
       "3        0        1        0        0        0        0   \n",
       "4        0        1        0        0        0        0   \n",
       "\n",
       "   home_ownership_MORTGAGE  home_ownership_OWN  addr_state_NM_NY  \\\n",
       "0                        0                   0                 0   \n",
       "1                        0                   0                 0   \n",
       "2                        0                   0                 0   \n",
       "3                        1                   0                 1   \n",
       "4                        1                   0                 0   \n",
       "\n",
       "   addr_state_UT_CA             ...              annual_inc_factor_40K_60K  \\\n",
       "0                 0             ...                                      0   \n",
       "1                 0             ...                                      1   \n",
       "2                 0             ...                                      0   \n",
       "3                 0             ...                                      0   \n",
       "4                 0             ...                                      0   \n",
       "\n",
       "   annual_inc_factor_60K_80K  annual_inc_factor_80K_100K  \\\n",
       "0                          1                           0   \n",
       "1                          0                           0   \n",
       "2                          0                           0   \n",
       "3                          0                           1   \n",
       "4                          0                           0   \n",
       "\n",
       "   annual_inc_factor_100K_120K  annual_inc_factor_120K_140K  \\\n",
       "0                            0                            0   \n",
       "1                            0                            0   \n",
       "2                            0                            0   \n",
       "3                            0                            0   \n",
       "4                            0                            0   \n",
       "\n",
       "   annual_inc_factor_>140K  mths_since_last_delinq_missing  \\\n",
       "0                        0                               1   \n",
       "1                        0                               1   \n",
       "2                        0                               0   \n",
       "3                        0                               0   \n",
       "4                        0                               0   \n",
       "\n",
       "   mths_since_last_delinq_4_30  mths_since_last_delinq_31_56  \\\n",
       "0                            0                             0   \n",
       "1                            0                             0   \n",
       "2                            1                             0   \n",
       "3                            1                             0   \n",
       "4                            0                             0   \n",
       "\n",
       "   mths_since_last_delinq_>57  \n",
       "0                           0  \n",
       "1                           0  \n",
       "2                           0  \n",
       "3                           0  \n",
       "4                           1  \n",
       "\n",
       "[5 rows x 52 columns]"
      ]
     },
     "execution_count": 12,
     "metadata": {},
     "output_type": "execute_result"
    }
   ],
   "source": [
    "final_train = train_ref_cat.drop(list_ref_var, axis = 1)\n",
    "final_train.head()"
   ]
  },
  {
   "cell_type": "markdown",
   "metadata": {},
   "source": [
    "### PD Model Estimation"
   ]
  },
  {
   "cell_type": "markdown",
   "metadata": {},
   "source": [
    "#### Logistic Regression"
   ]
  },
  {
   "cell_type": "code",
   "execution_count": 13,
   "metadata": {},
   "outputs": [],
   "source": [
    "from sklearn.linear_model import LogisticRegression\n",
    "from sklearn import metrics"
   ]
  },
  {
   "cell_type": "code",
   "execution_count": 89,
   "metadata": {},
   "outputs": [],
   "source": [
    "reg = LogisticRegression()"
   ]
  },
  {
   "cell_type": "code",
   "execution_count": 15,
   "metadata": {},
   "outputs": [],
   "source": [
    "pd.options.display.max_rows = None"
   ]
  },
  {
   "cell_type": "code",
   "execution_count": 16,
   "metadata": {},
   "outputs": [
    {
     "name": "stderr",
     "output_type": "stream",
     "text": [
      "C:\\ProgramData\\Anaconda3\\lib\\site-packages\\sklearn\\utils\\validation.py:760: DataConversionWarning: A column-vector y was passed when a 1d array was expected. Please change the shape of y to (n_samples, ), for example using ravel().\n",
      "  y = column_or_1d(y, warn=True)\n",
      "C:\\ProgramData\\Anaconda3\\lib\\site-packages\\sklearn\\linear_model\\_logistic.py:940: ConvergenceWarning: lbfgs failed to converge (status=1):\n",
      "STOP: TOTAL NO. of ITERATIONS REACHED LIMIT.\n",
      "\n",
      "Increase the number of iterations (max_iter) or scale the data as shown in:\n",
      "    https://scikit-learn.org/stable/modules/preprocessing.html\n",
      "Please also refer to the documentation for alternative solver options:\n",
      "    https://scikit-learn.org/stable/modules/linear_model.html#logistic-regression\n",
      "  extra_warning_msg=_LOGISTIC_SOLVER_CONVERGENCE_MSG)\n"
     ]
    },
    {
     "data": {
      "text/plain": [
       "LogisticRegression(C=1.0, class_weight=None, dual=False, fit_intercept=True,\n",
       "                   intercept_scaling=1, l1_ratio=None, max_iter=100,\n",
       "                   multi_class='auto', n_jobs=None, penalty='l2',\n",
       "                   random_state=None, solver='lbfgs', tol=0.0001, verbose=0,\n",
       "                   warm_start=False)"
      ]
     },
     "execution_count": 16,
     "metadata": {},
     "output_type": "execute_result"
    }
   ],
   "source": [
    "reg.fit(final_train, Y_train)"
   ]
  },
  {
   "cell_type": "code",
   "execution_count": 17,
   "metadata": {},
   "outputs": [
    {
     "data": {
      "text/plain": [
       "array([-0.47281194])"
      ]
     },
     "execution_count": 17,
     "metadata": {},
     "output_type": "execute_result"
    }
   ],
   "source": [
    "reg.intercept_"
   ]
  },
  {
   "cell_type": "code",
   "execution_count": 18,
   "metadata": {
    "scrolled": true
   },
   "outputs": [
    {
     "data": {
      "text/plain": [
       "array([[ 2.43680336e+00,  1.71669334e+00,  1.25154714e+00,\n",
       "         8.64666511e-01,  5.52221254e-01,  2.48195961e-01,\n",
       "         1.11021551e-01,  8.17979855e-02,  9.10947879e-02,\n",
       "         9.77609312e-02,  3.56859566e-01,  7.27837807e-02,\n",
       "         1.11725838e-01,  2.21224478e-01,  1.11131709e-01,\n",
       "         2.00070999e-02,  2.19599621e-01, -8.42028711e-02,\n",
       "        -5.68342210e-02, -1.92475580e-02,  6.82640034e-02,\n",
       "        -4.67253695e-03,  1.00110184e-01,  8.69206310e-02,\n",
       "         3.69185436e-02,  6.72390642e-02,  7.42189433e-02,\n",
       "         5.15615297e-02,  1.41017781e-01,  5.19683578e+00,\n",
       "         3.84847446e+00,  2.66184138e+00,  2.03968523e+00,\n",
       "         1.63761281e+00,  9.43397526e-01,  4.12288105e-01,\n",
       "         2.13872111e-01,  0.00000000e+00,  2.17850994e-01,\n",
       "         2.08748012e-01,  2.23616510e-01,  2.77423084e-01,\n",
       "         1.31385216e-01,  2.71380352e-01,  3.93760080e-01,\n",
       "         4.68568154e-01,  5.71851342e-01,  5.28196888e-01,\n",
       "         1.04073368e-01,  1.38092027e-01,  1.94060375e-01,\n",
       "         1.69527038e-01]])"
      ]
     },
     "execution_count": 18,
     "metadata": {},
     "output_type": "execute_result"
    }
   ],
   "source": [
    "reg.coef_"
   ]
  },
  {
   "cell_type": "code",
   "execution_count": 19,
   "metadata": {
    "scrolled": true
   },
   "outputs": [
    {
     "data": {
      "text/html": [
       "<div>\n",
       "<style scoped>\n",
       "    .dataframe tbody tr th:only-of-type {\n",
       "        vertical-align: middle;\n",
       "    }\n",
       "\n",
       "    .dataframe tbody tr th {\n",
       "        vertical-align: top;\n",
       "    }\n",
       "\n",
       "    .dataframe thead th {\n",
       "        text-align: right;\n",
       "    }\n",
       "</style>\n",
       "<table border=\"1\" class=\"dataframe\">\n",
       "  <thead>\n",
       "    <tr style=\"text-align: right;\">\n",
       "      <th></th>\n",
       "      <th>Features</th>\n",
       "      <th>Coefficients</th>\n",
       "    </tr>\n",
       "  </thead>\n",
       "  <tbody>\n",
       "    <tr>\n",
       "      <th>0</th>\n",
       "      <td>Intercept</td>\n",
       "      <td>-0.472812</td>\n",
       "    </tr>\n",
       "    <tr>\n",
       "      <th>1</th>\n",
       "      <td>grade_A</td>\n",
       "      <td>2.436803</td>\n",
       "    </tr>\n",
       "    <tr>\n",
       "      <th>2</th>\n",
       "      <td>grade_B</td>\n",
       "      <td>1.716693</td>\n",
       "    </tr>\n",
       "    <tr>\n",
       "      <th>3</th>\n",
       "      <td>grade_C</td>\n",
       "      <td>1.251547</td>\n",
       "    </tr>\n",
       "    <tr>\n",
       "      <th>4</th>\n",
       "      <td>grade_D</td>\n",
       "      <td>0.864667</td>\n",
       "    </tr>\n",
       "    <tr>\n",
       "      <th>5</th>\n",
       "      <td>grade_E</td>\n",
       "      <td>0.552221</td>\n",
       "    </tr>\n",
       "    <tr>\n",
       "      <th>6</th>\n",
       "      <td>grade_F</td>\n",
       "      <td>0.248196</td>\n",
       "    </tr>\n",
       "    <tr>\n",
       "      <th>7</th>\n",
       "      <td>home_ownership_MORTGAGE</td>\n",
       "      <td>0.111022</td>\n",
       "    </tr>\n",
       "    <tr>\n",
       "      <th>8</th>\n",
       "      <td>home_ownership_OWN</td>\n",
       "      <td>0.081798</td>\n",
       "    </tr>\n",
       "    <tr>\n",
       "      <th>9</th>\n",
       "      <td>addr_state_NM_NY</td>\n",
       "      <td>0.091095</td>\n",
       "    </tr>\n",
       "    <tr>\n",
       "      <th>10</th>\n",
       "      <td>addr_state_UT_CA</td>\n",
       "      <td>0.097761</td>\n",
       "    </tr>\n",
       "    <tr>\n",
       "      <th>11</th>\n",
       "      <td>addr_state_DC_VT_MS_NE_ND_ME</td>\n",
       "      <td>0.356860</td>\n",
       "    </tr>\n",
       "    <tr>\n",
       "      <th>12</th>\n",
       "      <td>addr_state_VA_NJ_LA_MO_NC_MD</td>\n",
       "      <td>0.072784</td>\n",
       "    </tr>\n",
       "    <tr>\n",
       "      <th>13</th>\n",
       "      <td>addr_state_OK_AZ_DE_RI_PA_MA</td>\n",
       "      <td>0.111726</td>\n",
       "    </tr>\n",
       "    <tr>\n",
       "      <th>14</th>\n",
       "      <td>addr_state_OTHERS</td>\n",
       "      <td>0.221224</td>\n",
       "    </tr>\n",
       "    <tr>\n",
       "      <th>15</th>\n",
       "      <td>verification_status_Not Verified</td>\n",
       "      <td>0.111132</td>\n",
       "    </tr>\n",
       "    <tr>\n",
       "      <th>16</th>\n",
       "      <td>verification_status_Source Verified</td>\n",
       "      <td>0.020007</td>\n",
       "    </tr>\n",
       "    <tr>\n",
       "      <th>17</th>\n",
       "      <td>purpose_wedding_renewable_energy</td>\n",
       "      <td>0.219600</td>\n",
       "    </tr>\n",
       "    <tr>\n",
       "      <th>18</th>\n",
       "      <td>purpose_house_moving</td>\n",
       "      <td>-0.084203</td>\n",
       "    </tr>\n",
       "    <tr>\n",
       "      <th>19</th>\n",
       "      <td>purpose_medical_vacation_debt_consolidation_ma...</td>\n",
       "      <td>-0.056834</td>\n",
       "    </tr>\n",
       "    <tr>\n",
       "      <th>20</th>\n",
       "      <td>purpose_car_home_improvement</td>\n",
       "      <td>-0.019248</td>\n",
       "    </tr>\n",
       "    <tr>\n",
       "      <th>21</th>\n",
       "      <td>initial_list_status_w</td>\n",
       "      <td>0.068264</td>\n",
       "    </tr>\n",
       "    <tr>\n",
       "      <th>22</th>\n",
       "      <td>term_36</td>\n",
       "      <td>-0.004673</td>\n",
       "    </tr>\n",
       "    <tr>\n",
       "      <th>23</th>\n",
       "      <td>emp_length_1_2_3_4</td>\n",
       "      <td>0.100110</td>\n",
       "    </tr>\n",
       "    <tr>\n",
       "      <th>24</th>\n",
       "      <td>emp_length_5</td>\n",
       "      <td>0.086921</td>\n",
       "    </tr>\n",
       "    <tr>\n",
       "      <th>25</th>\n",
       "      <td>emp_length_6</td>\n",
       "      <td>0.036919</td>\n",
       "    </tr>\n",
       "    <tr>\n",
       "      <th>26</th>\n",
       "      <td>emp_length_7</td>\n",
       "      <td>0.067239</td>\n",
       "    </tr>\n",
       "    <tr>\n",
       "      <th>27</th>\n",
       "      <td>emp_length_8</td>\n",
       "      <td>0.074219</td>\n",
       "    </tr>\n",
       "    <tr>\n",
       "      <th>28</th>\n",
       "      <td>emp_length_9</td>\n",
       "      <td>0.051562</td>\n",
       "    </tr>\n",
       "    <tr>\n",
       "      <th>29</th>\n",
       "      <td>emp_length_10</td>\n",
       "      <td>0.141018</td>\n",
       "    </tr>\n",
       "    <tr>\n",
       "      <th>30</th>\n",
       "      <td>mnths_since_issue_d_factor_&lt;54</td>\n",
       "      <td>5.196836</td>\n",
       "    </tr>\n",
       "    <tr>\n",
       "      <th>31</th>\n",
       "      <td>mnths_since_issue_d_factor_54_56</td>\n",
       "      <td>3.848474</td>\n",
       "    </tr>\n",
       "    <tr>\n",
       "      <th>32</th>\n",
       "      <td>mnths_since_issue_d_factor_56_58</td>\n",
       "      <td>2.661841</td>\n",
       "    </tr>\n",
       "    <tr>\n",
       "      <th>33</th>\n",
       "      <td>mnths_since_issue_d_factor_58_60</td>\n",
       "      <td>2.039685</td>\n",
       "    </tr>\n",
       "    <tr>\n",
       "      <th>34</th>\n",
       "      <td>mnths_since_issue_d_factor_60_62</td>\n",
       "      <td>1.637613</td>\n",
       "    </tr>\n",
       "    <tr>\n",
       "      <th>35</th>\n",
       "      <td>mnths_since_issue_d_factor_62_72</td>\n",
       "      <td>0.943398</td>\n",
       "    </tr>\n",
       "    <tr>\n",
       "      <th>36</th>\n",
       "      <td>mnths_since_issue_d_factor_72_82</td>\n",
       "      <td>0.412288</td>\n",
       "    </tr>\n",
       "    <tr>\n",
       "      <th>37</th>\n",
       "      <td>int_rate_factor_&lt;10</td>\n",
       "      <td>0.213872</td>\n",
       "    </tr>\n",
       "    <tr>\n",
       "      <th>38</th>\n",
       "      <td>int_rate_factor_10_15</td>\n",
       "      <td>0.000000</td>\n",
       "    </tr>\n",
       "    <tr>\n",
       "      <th>39</th>\n",
       "      <td>int_rate_factor_15_20</td>\n",
       "      <td>0.217851</td>\n",
       "    </tr>\n",
       "    <tr>\n",
       "      <th>40</th>\n",
       "      <td>mnths_since_earliest_cr_line_factor_&lt;160</td>\n",
       "      <td>0.208748</td>\n",
       "    </tr>\n",
       "    <tr>\n",
       "      <th>41</th>\n",
       "      <td>mnths_since_earliest_cr_line_factor_160_343</td>\n",
       "      <td>0.223617</td>\n",
       "    </tr>\n",
       "    <tr>\n",
       "      <th>42</th>\n",
       "      <td>mnths_since_earliest_cr_line_factor_343_571</td>\n",
       "      <td>0.277423</td>\n",
       "    </tr>\n",
       "    <tr>\n",
       "      <th>43</th>\n",
       "      <td>annual_inc_factor_40K_60K</td>\n",
       "      <td>0.131385</td>\n",
       "    </tr>\n",
       "    <tr>\n",
       "      <th>44</th>\n",
       "      <td>annual_inc_factor_60K_80K</td>\n",
       "      <td>0.271380</td>\n",
       "    </tr>\n",
       "    <tr>\n",
       "      <th>45</th>\n",
       "      <td>annual_inc_factor_80K_100K</td>\n",
       "      <td>0.393760</td>\n",
       "    </tr>\n",
       "    <tr>\n",
       "      <th>46</th>\n",
       "      <td>annual_inc_factor_100K_120K</td>\n",
       "      <td>0.468568</td>\n",
       "    </tr>\n",
       "    <tr>\n",
       "      <th>47</th>\n",
       "      <td>annual_inc_factor_120K_140K</td>\n",
       "      <td>0.571851</td>\n",
       "    </tr>\n",
       "    <tr>\n",
       "      <th>48</th>\n",
       "      <td>annual_inc_factor_&gt;140K</td>\n",
       "      <td>0.528197</td>\n",
       "    </tr>\n",
       "    <tr>\n",
       "      <th>49</th>\n",
       "      <td>mths_since_last_delinq_missing</td>\n",
       "      <td>0.104073</td>\n",
       "    </tr>\n",
       "    <tr>\n",
       "      <th>50</th>\n",
       "      <td>mths_since_last_delinq_4_30</td>\n",
       "      <td>0.138092</td>\n",
       "    </tr>\n",
       "    <tr>\n",
       "      <th>51</th>\n",
       "      <td>mths_since_last_delinq_31_56</td>\n",
       "      <td>0.194060</td>\n",
       "    </tr>\n",
       "    <tr>\n",
       "      <th>52</th>\n",
       "      <td>mths_since_last_delinq_&gt;57</td>\n",
       "      <td>0.169527</td>\n",
       "    </tr>\n",
       "  </tbody>\n",
       "</table>\n",
       "</div>"
      ],
      "text/plain": [
       "                                             Features  Coefficients\n",
       "0                                           Intercept     -0.472812\n",
       "1                                             grade_A      2.436803\n",
       "2                                             grade_B      1.716693\n",
       "3                                             grade_C      1.251547\n",
       "4                                             grade_D      0.864667\n",
       "5                                             grade_E      0.552221\n",
       "6                                             grade_F      0.248196\n",
       "7                             home_ownership_MORTGAGE      0.111022\n",
       "8                                  home_ownership_OWN      0.081798\n",
       "9                                    addr_state_NM_NY      0.091095\n",
       "10                                   addr_state_UT_CA      0.097761\n",
       "11                       addr_state_DC_VT_MS_NE_ND_ME      0.356860\n",
       "12                       addr_state_VA_NJ_LA_MO_NC_MD      0.072784\n",
       "13                       addr_state_OK_AZ_DE_RI_PA_MA      0.111726\n",
       "14                                  addr_state_OTHERS      0.221224\n",
       "15                   verification_status_Not Verified      0.111132\n",
       "16                verification_status_Source Verified      0.020007\n",
       "17                   purpose_wedding_renewable_energy      0.219600\n",
       "18                               purpose_house_moving     -0.084203\n",
       "19  purpose_medical_vacation_debt_consolidation_ma...     -0.056834\n",
       "20                       purpose_car_home_improvement     -0.019248\n",
       "21                              initial_list_status_w      0.068264\n",
       "22                                            term_36     -0.004673\n",
       "23                                 emp_length_1_2_3_4      0.100110\n",
       "24                                       emp_length_5      0.086921\n",
       "25                                       emp_length_6      0.036919\n",
       "26                                       emp_length_7      0.067239\n",
       "27                                       emp_length_8      0.074219\n",
       "28                                       emp_length_9      0.051562\n",
       "29                                      emp_length_10      0.141018\n",
       "30                     mnths_since_issue_d_factor_<54      5.196836\n",
       "31                   mnths_since_issue_d_factor_54_56      3.848474\n",
       "32                   mnths_since_issue_d_factor_56_58      2.661841\n",
       "33                   mnths_since_issue_d_factor_58_60      2.039685\n",
       "34                   mnths_since_issue_d_factor_60_62      1.637613\n",
       "35                   mnths_since_issue_d_factor_62_72      0.943398\n",
       "36                   mnths_since_issue_d_factor_72_82      0.412288\n",
       "37                                int_rate_factor_<10      0.213872\n",
       "38                              int_rate_factor_10_15      0.000000\n",
       "39                              int_rate_factor_15_20      0.217851\n",
       "40           mnths_since_earliest_cr_line_factor_<160      0.208748\n",
       "41        mnths_since_earliest_cr_line_factor_160_343      0.223617\n",
       "42        mnths_since_earliest_cr_line_factor_343_571      0.277423\n",
       "43                          annual_inc_factor_40K_60K      0.131385\n",
       "44                          annual_inc_factor_60K_80K      0.271380\n",
       "45                         annual_inc_factor_80K_100K      0.393760\n",
       "46                        annual_inc_factor_100K_120K      0.468568\n",
       "47                        annual_inc_factor_120K_140K      0.571851\n",
       "48                            annual_inc_factor_>140K      0.528197\n",
       "49                     mths_since_last_delinq_missing      0.104073\n",
       "50                        mths_since_last_delinq_4_30      0.138092\n",
       "51                       mths_since_last_delinq_31_56      0.194060\n",
       "52                         mths_since_last_delinq_>57      0.169527"
      ]
     },
     "execution_count": 19,
     "metadata": {},
     "output_type": "execute_result"
    }
   ],
   "source": [
    "features = final_train.columns.values\n",
    "summary_table = pd.DataFrame(columns = ['Features'], data = features)\n",
    "summary_table['Coefficients'] = np.transpose(reg.coef_)\n",
    "summary_table.index = summary_table.index + 1\n",
    "summary_table.loc[0] = ['Intercept', reg.intercept_[0]]\n",
    "summary_table = summary_table.sort_index()\n",
    "summary_table"
   ]
  },
  {
   "cell_type": "markdown",
   "metadata": {},
   "source": [
    "In order to see if the features are significant or not, we need to look at their p-vlaues. As Logistic Regression class doesn't have p-values inbuilt, we use statsmodel to perform stepwise logistic regression as shown below."
   ]
  },
  {
   "cell_type": "code",
   "execution_count": 29,
   "metadata": {},
   "outputs": [
    {
     "name": "stderr",
     "output_type": "stream",
     "text": [
      "C:\\ProgramData\\Anaconda3\\lib\\site-packages\\statsmodels\\base\\model.py:1100: RuntimeWarning: invalid value encountered in true_divide\n",
      "  return self.params / self.bse\n",
      "C:\\ProgramData\\Anaconda3\\lib\\site-packages\\scipy\\stats\\_distn_infrastructure.py:879: RuntimeWarning: invalid value encountered in greater\n",
      "  return (self.a < x) & (x < self.b)\n",
      "C:\\ProgramData\\Anaconda3\\lib\\site-packages\\scipy\\stats\\_distn_infrastructure.py:879: RuntimeWarning: invalid value encountered in less\n",
      "  return (self.a < x) & (x < self.b)\n",
      "C:\\ProgramData\\Anaconda3\\lib\\site-packages\\scipy\\stats\\_distn_infrastructure.py:1821: RuntimeWarning: invalid value encountered in less_equal\n",
      "  cond2 = cond0 & (x <= self.a)\n",
      "C:\\ProgramData\\Anaconda3\\lib\\site-packages\\ipykernel_launcher.py:30: FutureWarning: 'argmin' is deprecated, use 'idxmin' instead. The behavior of 'argmin'\n",
      "will be corrected to return the positional minimum in the future.\n",
      "Use 'series.values.argmin' to get the position of the minimum now.\n"
     ]
    },
    {
     "name": "stdout",
     "output_type": "stream",
     "text": [
      "Add  initial_list_status_w          with p-value 0.0\n",
      "Add  grade_F                        with p-value 0.0\n",
      "Add  mnths_since_issue_d_factor_56_58 with p-value 0.0\n",
      "Add  mnths_since_issue_d_factor_54_56 with p-value 0.0\n",
      "Add  grade_D                        with p-value 0.0\n",
      "Add  mnths_since_issue_d_factor_72_82 with p-value 0.0\n",
      "Add  grade_A                        with p-value 0.0\n",
      "Add  grade_B                        with p-value 0.0\n",
      "Add  grade_C                        with p-value 0.0\n",
      "Add  mnths_since_issue_d_factor_58_60 with p-value 0.0\n",
      "Add  mnths_since_issue_d_factor_60_62 with p-value 0.0\n",
      "Add  mnths_since_issue_d_factor_<54 with p-value 0.0\n",
      "Add  mnths_since_issue_d_factor_62_72 with p-value 0.0\n",
      "Add  home_ownership_MORTGAGE        with p-value 4.71026e-108\n"
     ]
    },
    {
     "name": "stderr",
     "output_type": "stream",
     "text": [
      "C:\\ProgramData\\Anaconda3\\lib\\site-packages\\ipykernel_launcher.py:43: FutureWarning: 'argmax' is deprecated, use 'idxmax' instead. The behavior of 'argmax'\n",
      "will be corrected to return the positional maximum in the future.\n",
      "Use 'series.values.argmax' to get the position of the maximum now.\n"
     ]
    },
    {
     "name": "stdout",
     "output_type": "stream",
     "text": [
      "Drop initial_list_status_w          with p-value 0.125837\n",
      "Add  grade_E                        with p-value 3.21014e-90\n",
      "Add  addr_state_OTHERS              with p-value 9.07e-34\n",
      "Add  annual_inc_factor_80K_100K     with p-value 3.05583e-28\n",
      "Add  annual_inc_factor_100K_120K    with p-value 1.02338e-29\n",
      "Add  annual_inc_factor_>140K        with p-value 3.92677e-30\n",
      "Add  annual_inc_factor_60K_80K      with p-value 6.99313e-34\n",
      "Add  annual_inc_factor_120K_140K    with p-value 2.07148e-46\n",
      "Add  annual_inc_factor_40K_60K      with p-value 7.41481e-27\n",
      "Add  emp_length_10                  with p-value 8.32804e-11\n",
      "Add  emp_length_1_2_3_4             with p-value 2.20326e-07\n",
      "Add  home_ownership_OWN             with p-value 1.06785e-07\n",
      "Add  addr_state_DC_VT_MS_NE_ND_ME   with p-value 6.37104e-07\n",
      "Add  verification_status_Not Verified with p-value 1.01773e-06\n",
      "Add  purpose_wedding_renewable_energy with p-value 5.38843e-06\n",
      "Add  mths_since_last_delinq_31_56   with p-value 3.34541e-05\n",
      "Add  int_rate_factor_<10            with p-value 0.000202373\n",
      "Add  mnths_since_earliest_cr_line_factor_343_571 with p-value 0.000844764\n",
      "Add  addr_state_OK_AZ_DE_RI_PA_MA   with p-value 0.00349195\n",
      "Add  addr_state_UT_CA               with p-value 0.000990085\n",
      "Add  mths_since_last_delinq_>57     with p-value 0.00748273\n",
      "Add  addr_state_NM_NY               with p-value 0.00771727\n",
      "Add  addr_state_VA_NJ_LA_MO_NC_MD   with p-value 0.000262185\n",
      "resulting features:\n",
      "['grade_F', 'mnths_since_issue_d_factor_56_58', 'mnths_since_issue_d_factor_54_56', 'grade_D', 'mnths_since_issue_d_factor_72_82', 'grade_A', 'grade_B', 'grade_C', 'mnths_since_issue_d_factor_58_60', 'mnths_since_issue_d_factor_60_62', 'mnths_since_issue_d_factor_<54', 'mnths_since_issue_d_factor_62_72', 'home_ownership_MORTGAGE', 'grade_E', 'addr_state_OTHERS', 'annual_inc_factor_80K_100K', 'annual_inc_factor_100K_120K', 'annual_inc_factor_>140K', 'annual_inc_factor_60K_80K', 'annual_inc_factor_120K_140K', 'annual_inc_factor_40K_60K', 'emp_length_10', 'emp_length_1_2_3_4', 'home_ownership_OWN', 'addr_state_DC_VT_MS_NE_ND_ME', 'verification_status_Not Verified', 'purpose_wedding_renewable_energy', 'mths_since_last_delinq_31_56', 'int_rate_factor_<10', 'mnths_since_earliest_cr_line_factor_343_571', 'addr_state_OK_AZ_DE_RI_PA_MA', 'addr_state_UT_CA', 'mths_since_last_delinq_>57', 'addr_state_NM_NY', 'addr_state_VA_NJ_LA_MO_NC_MD']\n"
     ]
    }
   ],
   "source": [
    "def stepwise_selection(X, y, \n",
    "                       initial_list=[], \n",
    "                       threshold_in=0.01, \n",
    "                       threshold_out = 0.05, \n",
    "                       verbose=True):\n",
    "    included = list(initial_list)\n",
    "    while True:\n",
    "        changed=False\n",
    "        # forward step\n",
    "        excluded = list(set(X.columns)-set(included))\n",
    "        new_pval = pd.Series(index=excluded)\n",
    "        for new_column in excluded:\n",
    "            model = sm.OLS(y, sm.add_constant(pd.DataFrame(X[included+[new_column]]))).fit()\n",
    "            new_pval[new_column] = model.pvalues[new_column]\n",
    "        best_pval = new_pval.min()\n",
    "        if best_pval < threshold_in:\n",
    "            best_feature = new_pval.argmin()\n",
    "            included.append(best_feature)\n",
    "            changed=True\n",
    "            if verbose:\n",
    "                print('Add  {:30} with p-value {:.6}'.format(best_feature, best_pval))\n",
    "\n",
    "        # backward step\n",
    "        model = sm.OLS(y, sm.add_constant(pd.DataFrame(X[included]))).fit()\n",
    "        # use all coefs except intercept\n",
    "        pvalues = model.pvalues.iloc[1:]\n",
    "        worst_pval = pvalues.max() # null if pvalues is empty\n",
    "        if worst_pval > threshold_out:\n",
    "            changed=True\n",
    "            worst_feature = pvalues.argmax()\n",
    "            included.remove(worst_feature)\n",
    "            if verbose:\n",
    "                print('Drop {:30} with p-value {:.6}'.format(worst_feature, worst_pval))\n",
    "        if not changed:\n",
    "            break\n",
    "    return included\n",
    "\n",
    "result = stepwise_selection(final_train, Y_train)\n",
    "\n",
    "print('resulting features:')\n",
    "print(result)"
   ]
  },
  {
   "cell_type": "code",
   "execution_count": 34,
   "metadata": {},
   "outputs": [
    {
     "name": "stderr",
     "output_type": "stream",
     "text": [
      "C:\\ProgramData\\Anaconda3\\lib\\site-packages\\sklearn\\utils\\validation.py:760: DataConversionWarning: A column-vector y was passed when a 1d array was expected. Please change the shape of y to (n_samples, ), for example using ravel().\n",
      "  y = column_or_1d(y, warn=True)\n"
     ]
    },
    {
     "data": {
      "text/plain": [
       "LogisticRegression(C=1.0, class_weight=None, dual=False, fit_intercept=True,\n",
       "                   intercept_scaling=1, l1_ratio=None, max_iter=100,\n",
       "                   multi_class='auto', n_jobs=None, penalty='l2',\n",
       "                   random_state=None, solver='lbfgs', tol=0.0001, verbose=0,\n",
       "                   warm_start=False)"
      ]
     },
     "execution_count": 34,
     "metadata": {},
     "output_type": "execute_result"
    }
   ],
   "source": [
    "final_train_2 = final_train.loc[:, result]\n",
    "\n",
    "reg_2 = LogisticRegression()\n",
    "reg_2.fit(final_train_2, Y_train)"
   ]
  },
  {
   "cell_type": "code",
   "execution_count": 35,
   "metadata": {
    "scrolled": true
   },
   "outputs": [
    {
     "data": {
      "text/html": [
       "<div>\n",
       "<style scoped>\n",
       "    .dataframe tbody tr th:only-of-type {\n",
       "        vertical-align: middle;\n",
       "    }\n",
       "\n",
       "    .dataframe tbody tr th {\n",
       "        vertical-align: top;\n",
       "    }\n",
       "\n",
       "    .dataframe thead th {\n",
       "        text-align: right;\n",
       "    }\n",
       "</style>\n",
       "<table border=\"1\" class=\"dataframe\">\n",
       "  <thead>\n",
       "    <tr style=\"text-align: right;\">\n",
       "      <th></th>\n",
       "      <th>Features</th>\n",
       "      <th>Coefficients</th>\n",
       "    </tr>\n",
       "  </thead>\n",
       "  <tbody>\n",
       "    <tr>\n",
       "      <th>0</th>\n",
       "      <td>Intercept</td>\n",
       "      <td>-0.137083</td>\n",
       "    </tr>\n",
       "    <tr>\n",
       "      <th>1</th>\n",
       "      <td>grade_F</td>\n",
       "      <td>0.246880</td>\n",
       "    </tr>\n",
       "    <tr>\n",
       "      <th>2</th>\n",
       "      <td>mnths_since_issue_d_factor_56_58</td>\n",
       "      <td>2.694923</td>\n",
       "    </tr>\n",
       "    <tr>\n",
       "      <th>3</th>\n",
       "      <td>mnths_since_issue_d_factor_54_56</td>\n",
       "      <td>3.885342</td>\n",
       "    </tr>\n",
       "    <tr>\n",
       "      <th>4</th>\n",
       "      <td>grade_D</td>\n",
       "      <td>0.865476</td>\n",
       "    </tr>\n",
       "    <tr>\n",
       "      <th>5</th>\n",
       "      <td>mnths_since_issue_d_factor_72_82</td>\n",
       "      <td>0.426780</td>\n",
       "    </tr>\n",
       "    <tr>\n",
       "      <th>6</th>\n",
       "      <td>grade_A</td>\n",
       "      <td>2.442765</td>\n",
       "    </tr>\n",
       "    <tr>\n",
       "      <th>7</th>\n",
       "      <td>grade_B</td>\n",
       "      <td>1.720229</td>\n",
       "    </tr>\n",
       "    <tr>\n",
       "      <th>8</th>\n",
       "      <td>grade_C</td>\n",
       "      <td>1.254454</td>\n",
       "    </tr>\n",
       "    <tr>\n",
       "      <th>9</th>\n",
       "      <td>mnths_since_issue_d_factor_58_60</td>\n",
       "      <td>2.072672</td>\n",
       "    </tr>\n",
       "    <tr>\n",
       "      <th>10</th>\n",
       "      <td>mnths_since_issue_d_factor_60_62</td>\n",
       "      <td>1.665510</td>\n",
       "    </tr>\n",
       "    <tr>\n",
       "      <th>11</th>\n",
       "      <td>mnths_since_issue_d_factor_&lt;54</td>\n",
       "      <td>5.245255</td>\n",
       "    </tr>\n",
       "    <tr>\n",
       "      <th>12</th>\n",
       "      <td>mnths_since_issue_d_factor_62_72</td>\n",
       "      <td>0.972426</td>\n",
       "    </tr>\n",
       "    <tr>\n",
       "      <th>13</th>\n",
       "      <td>home_ownership_MORTGAGE</td>\n",
       "      <td>0.114619</td>\n",
       "    </tr>\n",
       "    <tr>\n",
       "      <th>14</th>\n",
       "      <td>grade_E</td>\n",
       "      <td>0.552241</td>\n",
       "    </tr>\n",
       "    <tr>\n",
       "      <th>15</th>\n",
       "      <td>addr_state_OTHERS</td>\n",
       "      <td>0.220889</td>\n",
       "    </tr>\n",
       "    <tr>\n",
       "      <th>16</th>\n",
       "      <td>annual_inc_factor_80K_100K</td>\n",
       "      <td>0.405177</td>\n",
       "    </tr>\n",
       "    <tr>\n",
       "      <th>17</th>\n",
       "      <td>annual_inc_factor_100K_120K</td>\n",
       "      <td>0.480278</td>\n",
       "    </tr>\n",
       "    <tr>\n",
       "      <th>18</th>\n",
       "      <td>annual_inc_factor_&gt;140K</td>\n",
       "      <td>0.541979</td>\n",
       "    </tr>\n",
       "    <tr>\n",
       "      <th>19</th>\n",
       "      <td>annual_inc_factor_60K_80K</td>\n",
       "      <td>0.282255</td>\n",
       "    </tr>\n",
       "    <tr>\n",
       "      <th>20</th>\n",
       "      <td>annual_inc_factor_120K_140K</td>\n",
       "      <td>0.583954</td>\n",
       "    </tr>\n",
       "    <tr>\n",
       "      <th>21</th>\n",
       "      <td>annual_inc_factor_40K_60K</td>\n",
       "      <td>0.140573</td>\n",
       "    </tr>\n",
       "    <tr>\n",
       "      <th>22</th>\n",
       "      <td>emp_length_10</td>\n",
       "      <td>0.099277</td>\n",
       "    </tr>\n",
       "    <tr>\n",
       "      <th>23</th>\n",
       "      <td>emp_length_1_2_3_4</td>\n",
       "      <td>0.058595</td>\n",
       "    </tr>\n",
       "    <tr>\n",
       "      <th>24</th>\n",
       "      <td>home_ownership_OWN</td>\n",
       "      <td>0.082656</td>\n",
       "    </tr>\n",
       "    <tr>\n",
       "      <th>25</th>\n",
       "      <td>addr_state_DC_VT_MS_NE_ND_ME</td>\n",
       "      <td>0.356713</td>\n",
       "    </tr>\n",
       "    <tr>\n",
       "      <th>26</th>\n",
       "      <td>verification_status_Not Verified</td>\n",
       "      <td>0.104557</td>\n",
       "    </tr>\n",
       "    <tr>\n",
       "      <th>27</th>\n",
       "      <td>purpose_wedding_renewable_energy</td>\n",
       "      <td>0.251874</td>\n",
       "    </tr>\n",
       "    <tr>\n",
       "      <th>28</th>\n",
       "      <td>mths_since_last_delinq_31_56</td>\n",
       "      <td>0.083377</td>\n",
       "    </tr>\n",
       "    <tr>\n",
       "      <th>29</th>\n",
       "      <td>int_rate_factor_&lt;10</td>\n",
       "      <td>0.213573</td>\n",
       "    </tr>\n",
       "    <tr>\n",
       "      <th>30</th>\n",
       "      <td>mnths_since_earliest_cr_line_factor_343_571</td>\n",
       "      <td>0.053917</td>\n",
       "    </tr>\n",
       "    <tr>\n",
       "      <th>31</th>\n",
       "      <td>addr_state_OK_AZ_DE_RI_PA_MA</td>\n",
       "      <td>0.111804</td>\n",
       "    </tr>\n",
       "    <tr>\n",
       "      <th>32</th>\n",
       "      <td>addr_state_UT_CA</td>\n",
       "      <td>0.097498</td>\n",
       "    </tr>\n",
       "    <tr>\n",
       "      <th>33</th>\n",
       "      <td>mths_since_last_delinq_&gt;57</td>\n",
       "      <td>0.059111</td>\n",
       "    </tr>\n",
       "    <tr>\n",
       "      <th>34</th>\n",
       "      <td>addr_state_NM_NY</td>\n",
       "      <td>0.091991</td>\n",
       "    </tr>\n",
       "    <tr>\n",
       "      <th>35</th>\n",
       "      <td>addr_state_VA_NJ_LA_MO_NC_MD</td>\n",
       "      <td>0.071816</td>\n",
       "    </tr>\n",
       "  </tbody>\n",
       "</table>\n",
       "</div>"
      ],
      "text/plain": [
       "                                       Features  Coefficients\n",
       "0                                     Intercept     -0.137083\n",
       "1                                       grade_F      0.246880\n",
       "2              mnths_since_issue_d_factor_56_58      2.694923\n",
       "3              mnths_since_issue_d_factor_54_56      3.885342\n",
       "4                                       grade_D      0.865476\n",
       "5              mnths_since_issue_d_factor_72_82      0.426780\n",
       "6                                       grade_A      2.442765\n",
       "7                                       grade_B      1.720229\n",
       "8                                       grade_C      1.254454\n",
       "9              mnths_since_issue_d_factor_58_60      2.072672\n",
       "10             mnths_since_issue_d_factor_60_62      1.665510\n",
       "11               mnths_since_issue_d_factor_<54      5.245255\n",
       "12             mnths_since_issue_d_factor_62_72      0.972426\n",
       "13                      home_ownership_MORTGAGE      0.114619\n",
       "14                                      grade_E      0.552241\n",
       "15                            addr_state_OTHERS      0.220889\n",
       "16                   annual_inc_factor_80K_100K      0.405177\n",
       "17                  annual_inc_factor_100K_120K      0.480278\n",
       "18                      annual_inc_factor_>140K      0.541979\n",
       "19                    annual_inc_factor_60K_80K      0.282255\n",
       "20                  annual_inc_factor_120K_140K      0.583954\n",
       "21                    annual_inc_factor_40K_60K      0.140573\n",
       "22                                emp_length_10      0.099277\n",
       "23                           emp_length_1_2_3_4      0.058595\n",
       "24                           home_ownership_OWN      0.082656\n",
       "25                 addr_state_DC_VT_MS_NE_ND_ME      0.356713\n",
       "26             verification_status_Not Verified      0.104557\n",
       "27             purpose_wedding_renewable_energy      0.251874\n",
       "28                 mths_since_last_delinq_31_56      0.083377\n",
       "29                          int_rate_factor_<10      0.213573\n",
       "30  mnths_since_earliest_cr_line_factor_343_571      0.053917\n",
       "31                 addr_state_OK_AZ_DE_RI_PA_MA      0.111804\n",
       "32                             addr_state_UT_CA      0.097498\n",
       "33                   mths_since_last_delinq_>57      0.059111\n",
       "34                             addr_state_NM_NY      0.091991\n",
       "35                 addr_state_VA_NJ_LA_MO_NC_MD      0.071816"
      ]
     },
     "execution_count": 35,
     "metadata": {},
     "output_type": "execute_result"
    }
   ],
   "source": [
    "features = final_train_2.columns.values\n",
    "summary_table = pd.DataFrame(columns = ['Features'], data = features)\n",
    "summary_table['Coefficients'] = np.transpose(reg_2.coef_)\n",
    "summary_table.index = summary_table.index + 1\n",
    "summary_table.loc[0] = ['Intercept', reg_2.intercept_[0]]\n",
    "summary_table = summary_table.sort_index()\n",
    "summary_table"
   ]
  },
  {
   "cell_type": "markdown",
   "metadata": {},
   "source": [
    "### PD Model Validation (test)"
   ]
  },
  {
   "cell_type": "markdown",
   "metadata": {},
   "source": [
    "#### Out-of-sample validation (test)"
   ]
  },
  {
   "cell_type": "code",
   "execution_count": 38,
   "metadata": {},
   "outputs": [],
   "source": [
    "final_test = X_test.loc[:, result]"
   ]
  },
  {
   "cell_type": "code",
   "execution_count": 39,
   "metadata": {},
   "outputs": [
    {
     "data": {
      "text/html": [
       "<div>\n",
       "<style scoped>\n",
       "    .dataframe tbody tr th:only-of-type {\n",
       "        vertical-align: middle;\n",
       "    }\n",
       "\n",
       "    .dataframe tbody tr th {\n",
       "        vertical-align: top;\n",
       "    }\n",
       "\n",
       "    .dataframe thead th {\n",
       "        text-align: right;\n",
       "    }\n",
       "</style>\n",
       "<table border=\"1\" class=\"dataframe\">\n",
       "  <thead>\n",
       "    <tr style=\"text-align: right;\">\n",
       "      <th></th>\n",
       "      <th>grade_F</th>\n",
       "      <th>mnths_since_issue_d_factor_56_58</th>\n",
       "      <th>mnths_since_issue_d_factor_54_56</th>\n",
       "      <th>grade_D</th>\n",
       "      <th>mnths_since_issue_d_factor_72_82</th>\n",
       "      <th>grade_A</th>\n",
       "      <th>grade_B</th>\n",
       "      <th>grade_C</th>\n",
       "      <th>mnths_since_issue_d_factor_58_60</th>\n",
       "      <th>mnths_since_issue_d_factor_60_62</th>\n",
       "      <th>...</th>\n",
       "      <th>verification_status_Not Verified</th>\n",
       "      <th>purpose_wedding_renewable_energy</th>\n",
       "      <th>mths_since_last_delinq_31_56</th>\n",
       "      <th>int_rate_factor_&lt;10</th>\n",
       "      <th>mnths_since_earliest_cr_line_factor_343_571</th>\n",
       "      <th>addr_state_OK_AZ_DE_RI_PA_MA</th>\n",
       "      <th>addr_state_UT_CA</th>\n",
       "      <th>mths_since_last_delinq_&gt;57</th>\n",
       "      <th>addr_state_NM_NY</th>\n",
       "      <th>addr_state_VA_NJ_LA_MO_NC_MD</th>\n",
       "    </tr>\n",
       "  </thead>\n",
       "  <tbody>\n",
       "    <tr>\n",
       "      <th>0</th>\n",
       "      <td>0</td>\n",
       "      <td>0</td>\n",
       "      <td>0</td>\n",
       "      <td>0</td>\n",
       "      <td>0</td>\n",
       "      <td>0</td>\n",
       "      <td>0</td>\n",
       "      <td>1</td>\n",
       "      <td>0</td>\n",
       "      <td>0</td>\n",
       "      <td>...</td>\n",
       "      <td>0</td>\n",
       "      <td>0</td>\n",
       "      <td>0</td>\n",
       "      <td>0</td>\n",
       "      <td>0</td>\n",
       "      <td>0</td>\n",
       "      <td>0</td>\n",
       "      <td>0</td>\n",
       "      <td>0</td>\n",
       "      <td>0</td>\n",
       "    </tr>\n",
       "    <tr>\n",
       "      <th>1</th>\n",
       "      <td>0</td>\n",
       "      <td>0</td>\n",
       "      <td>1</td>\n",
       "      <td>0</td>\n",
       "      <td>0</td>\n",
       "      <td>0</td>\n",
       "      <td>1</td>\n",
       "      <td>0</td>\n",
       "      <td>0</td>\n",
       "      <td>0</td>\n",
       "      <td>...</td>\n",
       "      <td>0</td>\n",
       "      <td>0</td>\n",
       "      <td>0</td>\n",
       "      <td>0</td>\n",
       "      <td>0</td>\n",
       "      <td>0</td>\n",
       "      <td>1</td>\n",
       "      <td>0</td>\n",
       "      <td>0</td>\n",
       "      <td>0</td>\n",
       "    </tr>\n",
       "    <tr>\n",
       "      <th>2</th>\n",
       "      <td>0</td>\n",
       "      <td>0</td>\n",
       "      <td>1</td>\n",
       "      <td>1</td>\n",
       "      <td>0</td>\n",
       "      <td>0</td>\n",
       "      <td>0</td>\n",
       "      <td>0</td>\n",
       "      <td>0</td>\n",
       "      <td>0</td>\n",
       "      <td>...</td>\n",
       "      <td>0</td>\n",
       "      <td>0</td>\n",
       "      <td>0</td>\n",
       "      <td>0</td>\n",
       "      <td>0</td>\n",
       "      <td>0</td>\n",
       "      <td>0</td>\n",
       "      <td>0</td>\n",
       "      <td>0</td>\n",
       "      <td>0</td>\n",
       "    </tr>\n",
       "    <tr>\n",
       "      <th>3</th>\n",
       "      <td>0</td>\n",
       "      <td>0</td>\n",
       "      <td>0</td>\n",
       "      <td>0</td>\n",
       "      <td>0</td>\n",
       "      <td>0</td>\n",
       "      <td>0</td>\n",
       "      <td>1</td>\n",
       "      <td>0</td>\n",
       "      <td>0</td>\n",
       "      <td>...</td>\n",
       "      <td>0</td>\n",
       "      <td>0</td>\n",
       "      <td>0</td>\n",
       "      <td>0</td>\n",
       "      <td>0</td>\n",
       "      <td>0</td>\n",
       "      <td>0</td>\n",
       "      <td>1</td>\n",
       "      <td>1</td>\n",
       "      <td>0</td>\n",
       "    </tr>\n",
       "    <tr>\n",
       "      <th>4</th>\n",
       "      <td>0</td>\n",
       "      <td>0</td>\n",
       "      <td>0</td>\n",
       "      <td>0</td>\n",
       "      <td>0</td>\n",
       "      <td>0</td>\n",
       "      <td>0</td>\n",
       "      <td>1</td>\n",
       "      <td>0</td>\n",
       "      <td>0</td>\n",
       "      <td>...</td>\n",
       "      <td>0</td>\n",
       "      <td>0</td>\n",
       "      <td>0</td>\n",
       "      <td>0</td>\n",
       "      <td>0</td>\n",
       "      <td>0</td>\n",
       "      <td>0</td>\n",
       "      <td>0</td>\n",
       "      <td>0</td>\n",
       "      <td>0</td>\n",
       "    </tr>\n",
       "  </tbody>\n",
       "</table>\n",
       "<p>5 rows × 35 columns</p>\n",
       "</div>"
      ],
      "text/plain": [
       "   grade_F  mnths_since_issue_d_factor_56_58  \\\n",
       "0        0                                 0   \n",
       "1        0                                 0   \n",
       "2        0                                 0   \n",
       "3        0                                 0   \n",
       "4        0                                 0   \n",
       "\n",
       "   mnths_since_issue_d_factor_54_56  grade_D  \\\n",
       "0                                 0        0   \n",
       "1                                 1        0   \n",
       "2                                 1        1   \n",
       "3                                 0        0   \n",
       "4                                 0        0   \n",
       "\n",
       "   mnths_since_issue_d_factor_72_82  grade_A  grade_B  grade_C  \\\n",
       "0                                 0        0        0        1   \n",
       "1                                 0        0        1        0   \n",
       "2                                 0        0        0        0   \n",
       "3                                 0        0        0        1   \n",
       "4                                 0        0        0        1   \n",
       "\n",
       "   mnths_since_issue_d_factor_58_60  mnths_since_issue_d_factor_60_62  \\\n",
       "0                                 0                                 0   \n",
       "1                                 0                                 0   \n",
       "2                                 0                                 0   \n",
       "3                                 0                                 0   \n",
       "4                                 0                                 0   \n",
       "\n",
       "               ...               verification_status_Not Verified  \\\n",
       "0              ...                                              0   \n",
       "1              ...                                              0   \n",
       "2              ...                                              0   \n",
       "3              ...                                              0   \n",
       "4              ...                                              0   \n",
       "\n",
       "   purpose_wedding_renewable_energy  mths_since_last_delinq_31_56  \\\n",
       "0                                 0                             0   \n",
       "1                                 0                             0   \n",
       "2                                 0                             0   \n",
       "3                                 0                             0   \n",
       "4                                 0                             0   \n",
       "\n",
       "   int_rate_factor_<10  mnths_since_earliest_cr_line_factor_343_571  \\\n",
       "0                    0                                            0   \n",
       "1                    0                                            0   \n",
       "2                    0                                            0   \n",
       "3                    0                                            0   \n",
       "4                    0                                            0   \n",
       "\n",
       "   addr_state_OK_AZ_DE_RI_PA_MA  addr_state_UT_CA  mths_since_last_delinq_>57  \\\n",
       "0                             0                 0                           0   \n",
       "1                             0                 1                           0   \n",
       "2                             0                 0                           0   \n",
       "3                             0                 0                           1   \n",
       "4                             0                 0                           0   \n",
       "\n",
       "   addr_state_NM_NY  addr_state_VA_NJ_LA_MO_NC_MD  \n",
       "0                 0                             0  \n",
       "1                 0                             0  \n",
       "2                 0                             0  \n",
       "3                 1                             0  \n",
       "4                 0                             0  \n",
       "\n",
       "[5 rows x 35 columns]"
      ]
     },
     "execution_count": 39,
     "metadata": {},
     "output_type": "execute_result"
    }
   ],
   "source": [
    "final_test.head()"
   ]
  },
  {
   "cell_type": "code",
   "execution_count": 41,
   "metadata": {},
   "outputs": [
    {
     "data": {
      "text/plain": [
       "array([1, 1, 1, ..., 1, 1, 1], dtype=int64)"
      ]
     },
     "execution_count": 41,
     "metadata": {},
     "output_type": "execute_result"
    }
   ],
   "source": [
    "y_hat_pred = reg_2.predict(final_test)\n",
    "y_hat_pred"
   ]
  },
  {
   "cell_type": "markdown",
   "metadata": {},
   "source": [
    "To achieve the raw probabilities for each observation, we will use the predicted probabilitites and decide a cut-off value instead of the default value of 0.5"
   ]
  },
  {
   "cell_type": "code",
   "execution_count": 45,
   "metadata": {},
   "outputs": [
    {
     "data": {
      "text/plain": [
       "array([[0.14993205, 0.85006795],\n",
       "       [0.0019073 , 0.9980927 ],\n",
       "       [0.00595899, 0.99404101],\n",
       "       ...,\n",
       "       [0.08069436, 0.91930564],\n",
       "       [0.22028945, 0.77971055],\n",
       "       [0.03258995, 0.96741005]])"
      ]
     },
     "execution_count": 45,
     "metadata": {},
     "output_type": "execute_result"
    }
   ],
   "source": [
    "y_hat_pred_prob = reg_2.predict_proba(final_test)\n",
    "y_hat_pred_prob"
   ]
  },
  {
   "cell_type": "markdown",
   "metadata": {},
   "source": [
    "Since we want to look at good loans, we will consider the second value for each of the arrays and set that in a separate array."
   ]
  },
  {
   "cell_type": "code",
   "execution_count": 47,
   "metadata": {},
   "outputs": [
    {
     "data": {
      "text/plain": [
       "array([0.85006795, 0.9980927 , 0.99404101, ..., 0.91930564, 0.77971055,\n",
       "       0.96741005])"
      ]
     },
     "execution_count": 47,
     "metadata": {},
     "output_type": "execute_result"
    }
   ],
   "source": [
    "y_hat_pred_prob = y_hat_pred_prob[:][:, 1]\n",
    "y_hat_pred_prob"
   ]
  },
  {
   "cell_type": "code",
   "execution_count": 51,
   "metadata": {},
   "outputs": [
    {
     "data": {
      "text/plain": [
       "(177476, 2)"
      ]
     },
     "execution_count": 51,
     "metadata": {},
     "output_type": "execute_result"
    }
   ],
   "source": [
    "df_temp = Y_test\n",
    "df_temp.reset_index(drop = True, inplace = True)\n",
    "df_actual_pred_prob = pd.concat([df_temp, pd.DataFrame(y_hat_pred_prob)], axis = 1)\n",
    "df_actual_pred_prob.shape"
   ]
  },
  {
   "cell_type": "code",
   "execution_count": 52,
   "metadata": {},
   "outputs": [
    {
     "data": {
      "text/html": [
       "<div>\n",
       "<style scoped>\n",
       "    .dataframe tbody tr th:only-of-type {\n",
       "        vertical-align: middle;\n",
       "    }\n",
       "\n",
       "    .dataframe tbody tr th {\n",
       "        vertical-align: top;\n",
       "    }\n",
       "\n",
       "    .dataframe thead th {\n",
       "        text-align: right;\n",
       "    }\n",
       "</style>\n",
       "<table border=\"1\" class=\"dataframe\">\n",
       "  <thead>\n",
       "    <tr style=\"text-align: right;\">\n",
       "      <th></th>\n",
       "      <th>Actual_Val</th>\n",
       "      <th>Predicted_Prob</th>\n",
       "    </tr>\n",
       "  </thead>\n",
       "  <tbody>\n",
       "    <tr>\n",
       "      <th>0</th>\n",
       "      <td>1</td>\n",
       "      <td>0.850068</td>\n",
       "    </tr>\n",
       "    <tr>\n",
       "      <th>1</th>\n",
       "      <td>1</td>\n",
       "      <td>0.998093</td>\n",
       "    </tr>\n",
       "    <tr>\n",
       "      <th>2</th>\n",
       "      <td>1</td>\n",
       "      <td>0.994041</td>\n",
       "    </tr>\n",
       "    <tr>\n",
       "      <th>3</th>\n",
       "      <td>1</td>\n",
       "      <td>0.790355</td>\n",
       "    </tr>\n",
       "    <tr>\n",
       "      <th>4</th>\n",
       "      <td>1</td>\n",
       "      <td>0.999031</td>\n",
       "    </tr>\n",
       "  </tbody>\n",
       "</table>\n",
       "</div>"
      ],
      "text/plain": [
       "   Actual_Val  Predicted_Prob\n",
       "0           1        0.850068\n",
       "1           1        0.998093\n",
       "2           1        0.994041\n",
       "3           1        0.790355\n",
       "4           1        0.999031"
      ]
     },
     "execution_count": 52,
     "metadata": {},
     "output_type": "execute_result"
    }
   ],
   "source": [
    "df_actual_pred_prob.columns = ['Actual_Val', 'Predicted_Prob']\n",
    "df_actual_pred_prob.index = Y_test.index\n",
    "df_actual_pred_prob.head()"
   ]
  },
  {
   "cell_type": "markdown",
   "metadata": {},
   "source": [
    "### Accuracy and AUC"
   ]
  },
  {
   "cell_type": "code",
   "execution_count": 57,
   "metadata": {},
   "outputs": [],
   "source": [
    "#tr = 0.5\n",
    "tr = 0.9\n",
    "df_actual_pred_prob['Predicted_Val'] = np.where((df_actual_pred_prob['Predicted_Prob'] > tr), 1, 0)"
   ]
  },
  {
   "cell_type": "code",
   "execution_count": 58,
   "metadata": {},
   "outputs": [
    {
     "data": {
      "text/html": [
       "<div>\n",
       "<style scoped>\n",
       "    .dataframe tbody tr th:only-of-type {\n",
       "        vertical-align: middle;\n",
       "    }\n",
       "\n",
       "    .dataframe tbody tr th {\n",
       "        vertical-align: top;\n",
       "    }\n",
       "\n",
       "    .dataframe thead th {\n",
       "        text-align: right;\n",
       "    }\n",
       "</style>\n",
       "<table border=\"1\" class=\"dataframe\">\n",
       "  <thead>\n",
       "    <tr style=\"text-align: right;\">\n",
       "      <th>Predicted</th>\n",
       "      <th>0</th>\n",
       "      <th>1</th>\n",
       "    </tr>\n",
       "    <tr>\n",
       "      <th>Actual</th>\n",
       "      <th></th>\n",
       "      <th></th>\n",
       "    </tr>\n",
       "  </thead>\n",
       "  <tbody>\n",
       "    <tr>\n",
       "      <th>0</th>\n",
       "      <td>7095</td>\n",
       "      <td>4524</td>\n",
       "    </tr>\n",
       "    <tr>\n",
       "      <th>1</th>\n",
       "      <td>36988</td>\n",
       "      <td>128869</td>\n",
       "    </tr>\n",
       "  </tbody>\n",
       "</table>\n",
       "</div>"
      ],
      "text/plain": [
       "Predicted      0       1\n",
       "Actual                  \n",
       "0           7095    4524\n",
       "1          36988  128869"
      ]
     },
     "execution_count": 58,
     "metadata": {},
     "output_type": "execute_result"
    }
   ],
   "source": [
    "pd.crosstab(df_actual_pred_prob['Actual_Val'], df_actual_pred_prob['Predicted_Val'], rownames = ['Actual'], colnames = ['Predicted'])"
   ]
  },
  {
   "cell_type": "code",
   "execution_count": 55,
   "metadata": {},
   "outputs": [
    {
     "data": {
      "text/html": [
       "<div>\n",
       "<style scoped>\n",
       "    .dataframe tbody tr th:only-of-type {\n",
       "        vertical-align: middle;\n",
       "    }\n",
       "\n",
       "    .dataframe tbody tr th {\n",
       "        vertical-align: top;\n",
       "    }\n",
       "\n",
       "    .dataframe thead th {\n",
       "        text-align: right;\n",
       "    }\n",
       "</style>\n",
       "<table border=\"1\" class=\"dataframe\">\n",
       "  <thead>\n",
       "    <tr style=\"text-align: right;\">\n",
       "      <th>Predicted</th>\n",
       "      <th>0</th>\n",
       "      <th>1</th>\n",
       "    </tr>\n",
       "    <tr>\n",
       "      <th>Actual</th>\n",
       "      <th></th>\n",
       "      <th></th>\n",
       "    </tr>\n",
       "  </thead>\n",
       "  <tbody>\n",
       "    <tr>\n",
       "      <th>0</th>\n",
       "      <td>0.000006</td>\n",
       "      <td>0.065462</td>\n",
       "    </tr>\n",
       "    <tr>\n",
       "      <th>1</th>\n",
       "      <td>0.000011</td>\n",
       "      <td>0.934521</td>\n",
       "    </tr>\n",
       "  </tbody>\n",
       "</table>\n",
       "</div>"
      ],
      "text/plain": [
       "Predicted         0         1\n",
       "Actual                       \n",
       "0          0.000006  0.065462\n",
       "1          0.000011  0.934521"
      ]
     },
     "execution_count": 55,
     "metadata": {},
     "output_type": "execute_result"
    }
   ],
   "source": [
    "pd.crosstab(df_actual_pred_prob['Actual_Val'], df_actual_pred_prob['Predicted_Val'], \n",
    "            rownames = ['Actual'], colnames = ['Predicted'])/df_actual_pred_prob.shape[0]"
   ]
  },
  {
   "cell_type": "code",
   "execution_count": 59,
   "metadata": {},
   "outputs": [
    {
     "data": {
      "text/plain": [
       "0.7660979512722847"
      ]
     },
     "execution_count": 59,
     "metadata": {},
     "output_type": "execute_result"
    }
   ],
   "source": [
    "(pd.crosstab(df_actual_pred_prob['Actual_Val'], df_actual_pred_prob['Predicted_Val'], \n",
    "            rownames = ['Actual'], colnames = ['Predicted'])/df_actual_pred_prob.shape[0]).iloc[0,0] + (pd.crosstab(df_actual_pred_prob['Actual_Val'], df_actual_pred_prob['Predicted_Val'], \n",
    "            rownames = ['Actual'], colnames = ['Predicted'])/df_actual_pred_prob.shape[0]).iloc[1,1]"
   ]
  },
  {
   "cell_type": "markdown",
   "metadata": {},
   "source": [
    "Thus, our model has an accuracy of 93.45%. "
   ]
  },
  {
   "cell_type": "markdown",
   "metadata": {},
   "source": [
    "Under the threshold of 0.5, the model genearted a lot of false positives. This is critical as lot of bad applicants may be granted loan. Therefore, we want to capture more such people by resetting the threshold."
   ]
  },
  {
   "cell_type": "markdown",
   "metadata": {},
   "source": [
    "Therefore we set a new threshold of 0.9 and rerun the code and log the difference in the performance."
   ]
  },
  {
   "cell_type": "markdown",
   "metadata": {},
   "source": [
    "By running the model at a threshold of 0.9, the accuracy seems to have dropped but we are able to capture the poor performers better as can be seen in the confusion matrix above."
   ]
  },
  {
   "cell_type": "markdown",
   "metadata": {},
   "source": [
    "By using this new threshold of 0.9, we are reducing the no. of bad loans but we are also reducing the total no. of approved loans. Doing this may affect the business, thus we do not want to set a very conservative threshold."
   ]
  },
  {
   "cell_type": "markdown",
   "metadata": {},
   "source": [
    "To be able to decide on an optimal cut-off, we will use the ROC curve."
   ]
  },
  {
   "cell_type": "code",
   "execution_count": 60,
   "metadata": {
    "scrolled": true
   },
   "outputs": [
    {
     "data": {
      "text/plain": [
       "(array([0.        , 0.        , 0.        , ..., 0.99982787, 1.        ,\n",
       "        1.        ]),\n",
       " array([0.00000000e+00, 6.02929029e-06, 1.80878709e-05, ...,\n",
       "        9.99987941e-01, 9.99987941e-01, 1.00000000e+00]),\n",
       " array([1.99986273, 0.99986273, 0.99985863, ..., 0.50651663, 0.49833188,\n",
       "        0.48872882]))"
      ]
     },
     "execution_count": 60,
     "metadata": {},
     "output_type": "execute_result"
    }
   ],
   "source": [
    "from sklearn.metrics import roc_curve, roc_auc_score\n",
    "roc_curve(df_actual_pred_prob['Actual_Val'], df_actual_pred_prob['Predicted_Prob'])"
   ]
  },
  {
   "cell_type": "code",
   "execution_count": 61,
   "metadata": {},
   "outputs": [],
   "source": [
    "fpr, tpr, threshold = roc_curve(df_actual_pred_prob['Actual_Val'], df_actual_pred_prob['Predicted_Prob'])"
   ]
  },
  {
   "cell_type": "code",
   "execution_count": 62,
   "metadata": {},
   "outputs": [],
   "source": [
    "import matplotlib.pyplot as plt\n",
    "import seaborn as sns\n",
    "sns.set()"
   ]
  },
  {
   "cell_type": "code",
   "execution_count": 64,
   "metadata": {},
   "outputs": [
    {
     "data": {
      "text/plain": [
       "Text(0.5, 1.0, 'ROC')"
      ]
     },
     "execution_count": 64,
     "metadata": {},
     "output_type": "execute_result"
    },
    {
     "data": {
      "image/png": "[encoded data removed]",
      "text/plain": [
       "<Figure size 432x288 with 1 Axes>"
      ]
     },
     "metadata": {},
     "output_type": "display_data"
    }
   ],
   "source": [
    "plt.plot(fpr, tpr)\n",
    "plt.plot(fpr, fpr, linestyle = '--', color = 'k')\n",
    "plt.xlabel('False Positive Rate')\n",
    "plt.ylabel('True Positive Rate')\n",
    "plt.title('ROC')"
   ]
  },
  {
   "cell_type": "code",
   "execution_count": 65,
   "metadata": {},
   "outputs": [
    {
     "data": {
      "text/plain": [
       "0.7877831621431322"
      ]
     },
     "execution_count": 65,
     "metadata": {},
     "output_type": "execute_result"
    }
   ],
   "source": [
    "AUC = roc_auc_score(df_actual_pred_prob['Actual_Val'], df_actual_pred_prob['Predicted_Prob'])\n",
    "AUC"
   ]
  },
  {
   "cell_type": "markdown",
   "metadata": {},
   "source": [
    "#### Gini and KS Statistic"
   ]
  },
  {
   "cell_type": "code",
   "execution_count": 66,
   "metadata": {},
   "outputs": [
    {
     "data": {
      "text/html": [
       "<div>\n",
       "<style scoped>\n",
       "    .dataframe tbody tr th:only-of-type {\n",
       "        vertical-align: middle;\n",
       "    }\n",
       "\n",
       "    .dataframe tbody tr th {\n",
       "        vertical-align: top;\n",
       "    }\n",
       "\n",
       "    .dataframe thead th {\n",
       "        text-align: right;\n",
       "    }\n",
       "</style>\n",
       "<table border=\"1\" class=\"dataframe\">\n",
       "  <thead>\n",
       "    <tr style=\"text-align: right;\">\n",
       "      <th></th>\n",
       "      <th>Actual_Val</th>\n",
       "      <th>Predicted_Prob</th>\n",
       "      <th>Predicted_Val</th>\n",
       "    </tr>\n",
       "  </thead>\n",
       "  <tbody>\n",
       "    <tr>\n",
       "      <th>49333</th>\n",
       "      <td>1</td>\n",
       "      <td>0.488729</td>\n",
       "      <td>0</td>\n",
       "    </tr>\n",
       "    <tr>\n",
       "      <th>158659</th>\n",
       "      <td>1</td>\n",
       "      <td>0.490105</td>\n",
       "      <td>0</td>\n",
       "    </tr>\n",
       "    <tr>\n",
       "      <th>136690</th>\n",
       "      <td>0</td>\n",
       "      <td>0.498332</td>\n",
       "      <td>0</td>\n",
       "    </tr>\n",
       "    <tr>\n",
       "      <th>161689</th>\n",
       "      <td>0</td>\n",
       "      <td>0.503376</td>\n",
       "      <td>0</td>\n",
       "    </tr>\n",
       "    <tr>\n",
       "      <th>165211</th>\n",
       "      <td>1</td>\n",
       "      <td>0.506517</td>\n",
       "      <td>0</td>\n",
       "    </tr>\n",
       "  </tbody>\n",
       "</table>\n",
       "</div>"
      ],
      "text/plain": [
       "        Actual_Val  Predicted_Prob  Predicted_Val\n",
       "49333            1        0.488729              0\n",
       "158659           1        0.490105              0\n",
       "136690           0        0.498332              0\n",
       "161689           0        0.503376              0\n",
       "165211           1        0.506517              0"
      ]
     },
     "execution_count": 66,
     "metadata": {},
     "output_type": "execute_result"
    }
   ],
   "source": [
    "df_actual_pred_prob = df_actual_pred_prob.sort_values('Predicted_Prob')\n",
    "df_actual_pred_prob.head()"
   ]
  },
  {
   "cell_type": "code",
   "execution_count": 67,
   "metadata": {},
   "outputs": [],
   "source": [
    "df_actual_pred_prob = df_actual_pred_prob.reset_index()"
   ]
  },
  {
   "cell_type": "code",
   "execution_count": 68,
   "metadata": {},
   "outputs": [
    {
     "data": {
      "text/html": [
       "<div>\n",
       "<style scoped>\n",
       "    .dataframe tbody tr th:only-of-type {\n",
       "        vertical-align: middle;\n",
       "    }\n",
       "\n",
       "    .dataframe tbody tr th {\n",
       "        vertical-align: top;\n",
       "    }\n",
       "\n",
       "    .dataframe thead th {\n",
       "        text-align: right;\n",
       "    }\n",
       "</style>\n",
       "<table border=\"1\" class=\"dataframe\">\n",
       "  <thead>\n",
       "    <tr style=\"text-align: right;\">\n",
       "      <th></th>\n",
       "      <th>index</th>\n",
       "      <th>Actual_Val</th>\n",
       "      <th>Predicted_Prob</th>\n",
       "      <th>Predicted_Val</th>\n",
       "    </tr>\n",
       "  </thead>\n",
       "  <tbody>\n",
       "    <tr>\n",
       "      <th>0</th>\n",
       "      <td>49333</td>\n",
       "      <td>1</td>\n",
       "      <td>0.488729</td>\n",
       "      <td>0</td>\n",
       "    </tr>\n",
       "    <tr>\n",
       "      <th>1</th>\n",
       "      <td>158659</td>\n",
       "      <td>1</td>\n",
       "      <td>0.490105</td>\n",
       "      <td>0</td>\n",
       "    </tr>\n",
       "    <tr>\n",
       "      <th>2</th>\n",
       "      <td>136690</td>\n",
       "      <td>0</td>\n",
       "      <td>0.498332</td>\n",
       "      <td>0</td>\n",
       "    </tr>\n",
       "    <tr>\n",
       "      <th>3</th>\n",
       "      <td>161689</td>\n",
       "      <td>0</td>\n",
       "      <td>0.503376</td>\n",
       "      <td>0</td>\n",
       "    </tr>\n",
       "    <tr>\n",
       "      <th>4</th>\n",
       "      <td>165211</td>\n",
       "      <td>1</td>\n",
       "      <td>0.506517</td>\n",
       "      <td>0</td>\n",
       "    </tr>\n",
       "  </tbody>\n",
       "</table>\n",
       "</div>"
      ],
      "text/plain": [
       "    index  Actual_Val  Predicted_Prob  Predicted_Val\n",
       "0   49333           1        0.488729              0\n",
       "1  158659           1        0.490105              0\n",
       "2  136690           0        0.498332              0\n",
       "3  161689           0        0.503376              0\n",
       "4  165211           1        0.506517              0"
      ]
     },
     "execution_count": 68,
     "metadata": {},
     "output_type": "execute_result"
    }
   ],
   "source": [
    "df_actual_pred_prob.head()"
   ]
  },
  {
   "cell_type": "code",
   "execution_count": 69,
   "metadata": {},
   "outputs": [
    {
     "data": {
      "text/html": [
       "<div>\n",
       "<style scoped>\n",
       "    .dataframe tbody tr th:only-of-type {\n",
       "        vertical-align: middle;\n",
       "    }\n",
       "\n",
       "    .dataframe tbody tr th {\n",
       "        vertical-align: top;\n",
       "    }\n",
       "\n",
       "    .dataframe thead th {\n",
       "        text-align: right;\n",
       "    }\n",
       "</style>\n",
       "<table border=\"1\" class=\"dataframe\">\n",
       "  <thead>\n",
       "    <tr style=\"text-align: right;\">\n",
       "      <th></th>\n",
       "      <th>index</th>\n",
       "      <th>Actual_Val</th>\n",
       "      <th>Predicted_Prob</th>\n",
       "      <th>Predicted_Val</th>\n",
       "      <th>Cum N Population</th>\n",
       "      <th>Cum N Good</th>\n",
       "      <th>Cum N Bad</th>\n",
       "    </tr>\n",
       "  </thead>\n",
       "  <tbody>\n",
       "    <tr>\n",
       "      <th>0</th>\n",
       "      <td>49333</td>\n",
       "      <td>1</td>\n",
       "      <td>0.488729</td>\n",
       "      <td>0</td>\n",
       "      <td>1</td>\n",
       "      <td>1</td>\n",
       "      <td>0</td>\n",
       "    </tr>\n",
       "    <tr>\n",
       "      <th>1</th>\n",
       "      <td>158659</td>\n",
       "      <td>1</td>\n",
       "      <td>0.490105</td>\n",
       "      <td>0</td>\n",
       "      <td>2</td>\n",
       "      <td>2</td>\n",
       "      <td>0</td>\n",
       "    </tr>\n",
       "    <tr>\n",
       "      <th>2</th>\n",
       "      <td>136690</td>\n",
       "      <td>0</td>\n",
       "      <td>0.498332</td>\n",
       "      <td>0</td>\n",
       "      <td>3</td>\n",
       "      <td>2</td>\n",
       "      <td>1</td>\n",
       "    </tr>\n",
       "    <tr>\n",
       "      <th>3</th>\n",
       "      <td>161689</td>\n",
       "      <td>0</td>\n",
       "      <td>0.503376</td>\n",
       "      <td>0</td>\n",
       "      <td>4</td>\n",
       "      <td>2</td>\n",
       "      <td>2</td>\n",
       "    </tr>\n",
       "    <tr>\n",
       "      <th>4</th>\n",
       "      <td>165211</td>\n",
       "      <td>1</td>\n",
       "      <td>0.506517</td>\n",
       "      <td>0</td>\n",
       "      <td>5</td>\n",
       "      <td>3</td>\n",
       "      <td>2</td>\n",
       "    </tr>\n",
       "  </tbody>\n",
       "</table>\n",
       "</div>"
      ],
      "text/plain": [
       "    index  Actual_Val  Predicted_Prob  Predicted_Val  Cum N Population  \\\n",
       "0   49333           1        0.488729              0                 1   \n",
       "1  158659           1        0.490105              0                 2   \n",
       "2  136690           0        0.498332              0                 3   \n",
       "3  161689           0        0.503376              0                 4   \n",
       "4  165211           1        0.506517              0                 5   \n",
       "\n",
       "   Cum N Good  Cum N Bad  \n",
       "0           1          0  \n",
       "1           2          0  \n",
       "2           2          1  \n",
       "3           2          2  \n",
       "4           3          2  "
      ]
     },
     "execution_count": 69,
     "metadata": {},
     "output_type": "execute_result"
    }
   ],
   "source": [
    "df_actual_pred_prob['Cum N Population'] = df_actual_pred_prob.index + 1\n",
    "df_actual_pred_prob['Cum N Good'] = df_actual_pred_prob['Actual_Val'].cumsum()\n",
    "df_actual_pred_prob['Cum N Bad'] = df_actual_pred_prob['Cum N Population'] - df_actual_pred_prob['Actual_Val'].cumsum()\n",
    "\n",
    "df_actual_pred_prob.head()"
   ]
  },
  {
   "cell_type": "code",
   "execution_count": 70,
   "metadata": {},
   "outputs": [],
   "source": [
    "df_actual_pred_prob['Cum % Population'] = df_actual_pred_prob['Cum N Population']/(df_actual_pred_prob.shape[0])\n",
    "df_actual_pred_prob['Cum % Good'] = df_actual_pred_prob['Cum N Good']/(df_actual_pred_prob['Actual_Val'].sum())\n",
    "df_actual_pred_prob['Cum % Bad'] = df_actual_pred_prob['Cum N Bad']/(df_actual_pred_prob.shape[0] - df_actual_pred_prob['Actual_Val'].sum())"
   ]
  },
  {
   "cell_type": "code",
   "execution_count": 71,
   "metadata": {},
   "outputs": [
    {
     "data": {
      "text/plain": [
       "Text(0.5, 1.0, 'Gini Coefficient')"
      ]
     },
     "execution_count": 71,
     "metadata": {},
     "output_type": "execute_result"
    },
    {
     "data": {
      "image/png": "[encoded data removed]",
      "text/plain": [
       "<Figure size 432x288 with 1 Axes>"
      ]
     },
     "metadata": {},
     "output_type": "display_data"
    }
   ],
   "source": [
    "plt.plot(df_actual_pred_prob['Cum % Population'], df_actual_pred_prob['Cum % Bad'])\n",
    "plt.plot(df_actual_pred_prob['Cum % Population'], df_actual_pred_prob['Cum % Population'], linestyle = '--', color = 'k')\n",
    "plt.xlabel('Cumulative % Population')\n",
    "plt.ylabel('Cumulative % Defaulted')\n",
    "plt.title('Gini Coefficient')"
   ]
  },
  {
   "cell_type": "code",
   "execution_count": 73,
   "metadata": {},
   "outputs": [
    {
     "data": {
      "text/plain": [
       "0.5755663242862643"
      ]
     },
     "execution_count": 73,
     "metadata": {},
     "output_type": "execute_result"
    }
   ],
   "source": [
    "gini = AUC*2 -1\n",
    "gini"
   ]
  },
  {
   "cell_type": "code",
   "execution_count": 74,
   "metadata": {},
   "outputs": [
    {
     "data": {
      "text/plain": [
       "Text(0.5, 1.0, 'Kolmogorov-Smirnov')"
      ]
     },
     "execution_count": 74,
     "metadata": {},
     "output_type": "execute_result"
    },
    {
     "data": {
      "image/png": "[encoded data removed]",
      "text/plain": [
       "<Figure size 432x288 with 1 Axes>"
      ]
     },
     "metadata": {},
     "output_type": "display_data"
    }
   ],
   "source": [
    "plt.plot(df_actual_pred_prob['Predicted_Prob'], df_actual_pred_prob['Cum % Bad'], color = 'r')\n",
    "plt.plot(df_actual_pred_prob['Predicted_Prob'], df_actual_pred_prob['Cum % Good'], color = 'b')\n",
    "plt.xlabel('Estimated probability of being good')\n",
    "plt.ylabel('Cumulative %')\n",
    "plt.title('Kolmogorov-Smirnov')"
   ]
  },
  {
   "cell_type": "code",
   "execution_count": 75,
   "metadata": {},
   "outputs": [
    {
     "data": {
      "text/plain": [
       "0.4324284746846786"
      ]
     },
     "execution_count": 75,
     "metadata": {},
     "output_type": "execute_result"
    }
   ],
   "source": [
    "ks = max(df_actual_pred_prob['Cum % Bad'] - df_actual_pred_prob['Cum % Good'])\n",
    "ks"
   ]
  },
  {
   "cell_type": "markdown",
   "metadata": {},
   "source": [
    "### Setting the cutoff"
   ]
  },
  {
   "cell_type": "code",
   "execution_count": 79,
   "metadata": {},
   "outputs": [
    {
     "data": {
      "text/plain": [
       "Text(0.5, 1.0, 'ROC')"
      ]
     },
     "execution_count": 79,
     "metadata": {},
     "output_type": "execute_result"
    },
    {
     "data": {
      "image/png": "[encoded data removed]",
      "text/plain": [
       "<Figure size 432x288 with 1 Axes>"
      ]
     },
     "metadata": {},
     "output_type": "display_data"
    }
   ],
   "source": [
    "from sklearn.metrics import roc_curve, roc_auc_score\n",
    "roc_curve(df_actual_pred_prob['Actual_Val'], df_actual_pred_prob['Predicted_Prob'])\n",
    "\n",
    "fpr, tpr, threshold = roc_curve(df_actual_pred_prob['Actual_Val'], df_actual_pred_prob['Predicted_Prob'])\n",
    "\n",
    "import matplotlib.pyplot as plt\n",
    "import seaborn as sns\n",
    "sns.set()\n",
    "\n",
    "plt.plot(fpr, tpr)\n",
    "plt.plot(fpr, fpr, linestyle = '--', color = 'k')\n",
    "plt.xlabel('False Positive Rate')\n",
    "plt.ylabel('True Positive Rate')\n",
    "plt.title('ROC')"
   ]
  },
  {
   "cell_type": "code",
   "execution_count": 80,
   "metadata": {},
   "outputs": [
    {
     "data": {
      "text/plain": [
       "array([1.99986273, 0.99986273, 0.99985863, ..., 0.50651663, 0.49833188,\n",
       "       0.48872882])"
      ]
     },
     "execution_count": 80,
     "metadata": {},
     "output_type": "execute_result"
    }
   ],
   "source": [
    "threshold"
   ]
  },
  {
   "cell_type": "code",
   "execution_count": 82,
   "metadata": {},
   "outputs": [
    {
     "data": {
      "text/html": [
       "<div>\n",
       "<style scoped>\n",
       "    .dataframe tbody tr th:only-of-type {\n",
       "        vertical-align: middle;\n",
       "    }\n",
       "\n",
       "    .dataframe tbody tr th {\n",
       "        vertical-align: top;\n",
       "    }\n",
       "\n",
       "    .dataframe thead th {\n",
       "        text-align: right;\n",
       "    }\n",
       "</style>\n",
       "<table border=\"1\" class=\"dataframe\">\n",
       "  <thead>\n",
       "    <tr style=\"text-align: right;\">\n",
       "      <th></th>\n",
       "      <th>Thresholds</th>\n",
       "      <th>False_Positive_Rate</th>\n",
       "      <th>True_Positive_Rate</th>\n",
       "    </tr>\n",
       "  </thead>\n",
       "  <tbody>\n",
       "    <tr>\n",
       "      <th>0</th>\n",
       "      <td>1.999863</td>\n",
       "      <td>0.0</td>\n",
       "      <td>0.000000</td>\n",
       "    </tr>\n",
       "    <tr>\n",
       "      <th>1</th>\n",
       "      <td>0.999863</td>\n",
       "      <td>0.0</td>\n",
       "      <td>0.000006</td>\n",
       "    </tr>\n",
       "    <tr>\n",
       "      <th>2</th>\n",
       "      <td>0.999859</td>\n",
       "      <td>0.0</td>\n",
       "      <td>0.000018</td>\n",
       "    </tr>\n",
       "    <tr>\n",
       "      <th>3</th>\n",
       "      <td>0.999841</td>\n",
       "      <td>0.0</td>\n",
       "      <td>0.000054</td>\n",
       "    </tr>\n",
       "    <tr>\n",
       "      <th>4</th>\n",
       "      <td>0.999838</td>\n",
       "      <td>0.0</td>\n",
       "      <td>0.000072</td>\n",
       "    </tr>\n",
       "  </tbody>\n",
       "</table>\n",
       "</div>"
      ],
      "text/plain": [
       "   Thresholds  False_Positive_Rate  True_Positive_Rate\n",
       "0    1.999863                  0.0            0.000000\n",
       "1    0.999863                  0.0            0.000006\n",
       "2    0.999859                  0.0            0.000018\n",
       "3    0.999841                  0.0            0.000054\n",
       "4    0.999838                  0.0            0.000072"
      ]
     },
     "execution_count": 82,
     "metadata": {},
     "output_type": "execute_result"
    }
   ],
   "source": [
    "df_cutoff = pd.concat([pd.DataFrame(threshold), pd.DataFrame(fpr), pd.DataFrame(tpr)], axis = 1)\n",
    "df_cutoff.columns = ['Thresholds', 'False_Positive_Rate', 'True_Positive_Rate']\n",
    "df_cutoff.head()"
   ]
  },
  {
   "cell_type": "code",
   "execution_count": 83,
   "metadata": {},
   "outputs": [
    {
     "data": {
      "text/html": [
       "<div>\n",
       "<style scoped>\n",
       "    .dataframe tbody tr th:only-of-type {\n",
       "        vertical-align: middle;\n",
       "    }\n",
       "\n",
       "    .dataframe tbody tr th {\n",
       "        vertical-align: top;\n",
       "    }\n",
       "\n",
       "    .dataframe thead th {\n",
       "        text-align: right;\n",
       "    }\n",
       "</style>\n",
       "<table border=\"1\" class=\"dataframe\">\n",
       "  <thead>\n",
       "    <tr style=\"text-align: right;\">\n",
       "      <th></th>\n",
       "      <th>Thresholds</th>\n",
       "      <th>False_Positive_Rate</th>\n",
       "      <th>True_Positive_Rate</th>\n",
       "    </tr>\n",
       "  </thead>\n",
       "  <tbody>\n",
       "    <tr>\n",
       "      <th>0</th>\n",
       "      <td>1.000000</td>\n",
       "      <td>0.0</td>\n",
       "      <td>0.000000</td>\n",
       "    </tr>\n",
       "    <tr>\n",
       "      <th>1</th>\n",
       "      <td>0.999863</td>\n",
       "      <td>0.0</td>\n",
       "      <td>0.000006</td>\n",
       "    </tr>\n",
       "    <tr>\n",
       "      <th>2</th>\n",
       "      <td>0.999859</td>\n",
       "      <td>0.0</td>\n",
       "      <td>0.000018</td>\n",
       "    </tr>\n",
       "    <tr>\n",
       "      <th>3</th>\n",
       "      <td>0.999841</td>\n",
       "      <td>0.0</td>\n",
       "      <td>0.000054</td>\n",
       "    </tr>\n",
       "    <tr>\n",
       "      <th>4</th>\n",
       "      <td>0.999838</td>\n",
       "      <td>0.0</td>\n",
       "      <td>0.000072</td>\n",
       "    </tr>\n",
       "  </tbody>\n",
       "</table>\n",
       "</div>"
      ],
      "text/plain": [
       "   Thresholds  False_Positive_Rate  True_Positive_Rate\n",
       "0    1.000000                  0.0            0.000000\n",
       "1    0.999863                  0.0            0.000006\n",
       "2    0.999859                  0.0            0.000018\n",
       "3    0.999841                  0.0            0.000054\n",
       "4    0.999838                  0.0            0.000072"
      ]
     },
     "execution_count": 83,
     "metadata": {},
     "output_type": "execute_result"
    }
   ],
   "source": [
    "df_cutoff['Thresholds'][0] = 1 - 1/np.power(10,16)\n",
    "df_cutoff.head()"
   ]
  },
  {
   "cell_type": "code",
   "execution_count": 84,
   "metadata": {},
   "outputs": [],
   "source": [
    "def n_approved(p):\n",
    "    return np.where(df_actual_pred_prob['Predicted_Prob'] >= p, 1, 0).sum()"
   ]
  },
  {
   "cell_type": "code",
   "execution_count": 85,
   "metadata": {},
   "outputs": [],
   "source": [
    "df_cutoff['Approved'] = df_cutoff['Thresholds'].apply(n_approved)\n",
    "df_cutoff['Rejected'] = df_actual_pred_prob['Predicted_Prob'].shape[0] - df_cutoff['Approved']\n",
    "df_cutoff['Approval Rate'] = df_cutoff['Approved']/ df_actual_pred_prob['Predicted_Prob'].shape[0]\n",
    "df_cutoff['Rejection Rate'] = 1 - df_cutoff['Approval Rate']"
   ]
  },
  {
   "cell_type": "code",
   "execution_count": 88,
   "metadata": {},
   "outputs": [
    {
     "data": {
      "text/html": [
       "<div>\n",
       "<style scoped>\n",
       "    .dataframe tbody tr th:only-of-type {\n",
       "        vertical-align: middle;\n",
       "    }\n",
       "\n",
       "    .dataframe tbody tr th {\n",
       "        vertical-align: top;\n",
       "    }\n",
       "\n",
       "    .dataframe thead th {\n",
       "        text-align: right;\n",
       "    }\n",
       "</style>\n",
       "<table border=\"1\" class=\"dataframe\">\n",
       "  <thead>\n",
       "    <tr style=\"text-align: right;\">\n",
       "      <th></th>\n",
       "      <th>Thresholds</th>\n",
       "      <th>False_Positive_Rate</th>\n",
       "      <th>True_Positive_Rate</th>\n",
       "      <th>Approved</th>\n",
       "      <th>Rejected</th>\n",
       "      <th>Approval Rate</th>\n",
       "      <th>Rejection Rate</th>\n",
       "    </tr>\n",
       "  </thead>\n",
       "  <tbody>\n",
       "    <tr>\n",
       "      <th>40372</th>\n",
       "      <td>0.515516</td>\n",
       "      <td>0.999570</td>\n",
       "      <td>0.999982</td>\n",
       "      <td>177468</td>\n",
       "      <td>8</td>\n",
       "      <td>0.999955</td>\n",
       "      <td>0.000045</td>\n",
       "    </tr>\n",
       "    <tr>\n",
       "      <th>40373</th>\n",
       "      <td>0.508328</td>\n",
       "      <td>0.999742</td>\n",
       "      <td>0.999982</td>\n",
       "      <td>177470</td>\n",
       "      <td>6</td>\n",
       "      <td>0.999966</td>\n",
       "      <td>0.000034</td>\n",
       "    </tr>\n",
       "    <tr>\n",
       "      <th>40374</th>\n",
       "      <td>0.506517</td>\n",
       "      <td>0.999828</td>\n",
       "      <td>0.999988</td>\n",
       "      <td>177472</td>\n",
       "      <td>4</td>\n",
       "      <td>0.999977</td>\n",
       "      <td>0.000023</td>\n",
       "    </tr>\n",
       "    <tr>\n",
       "      <th>40375</th>\n",
       "      <td>0.498332</td>\n",
       "      <td>1.000000</td>\n",
       "      <td>0.999988</td>\n",
       "      <td>177474</td>\n",
       "      <td>2</td>\n",
       "      <td>0.999989</td>\n",
       "      <td>0.000011</td>\n",
       "    </tr>\n",
       "    <tr>\n",
       "      <th>40376</th>\n",
       "      <td>0.488729</td>\n",
       "      <td>1.000000</td>\n",
       "      <td>1.000000</td>\n",
       "      <td>177476</td>\n",
       "      <td>0</td>\n",
       "      <td>1.000000</td>\n",
       "      <td>0.000000</td>\n",
       "    </tr>\n",
       "  </tbody>\n",
       "</table>\n",
       "</div>"
      ],
      "text/plain": [
       "       Thresholds  False_Positive_Rate  True_Positive_Rate  Approved  \\\n",
       "40372    0.515516             0.999570            0.999982    177468   \n",
       "40373    0.508328             0.999742            0.999982    177470   \n",
       "40374    0.506517             0.999828            0.999988    177472   \n",
       "40375    0.498332             1.000000            0.999988    177474   \n",
       "40376    0.488729             1.000000            1.000000    177476   \n",
       "\n",
       "       Rejected  Approval Rate  Rejection Rate  \n",
       "40372         8       0.999955        0.000045  \n",
       "40373         6       0.999966        0.000034  \n",
       "40374         4       0.999977        0.000023  \n",
       "40375         2       0.999989        0.000011  \n",
       "40376         0       1.000000        0.000000  "
      ]
     },
     "execution_count": 88,
     "metadata": {},
     "output_type": "execute_result"
    }
   ],
   "source": [
    "df_cutoff.tail()"
   ]
  },
  {
   "cell_type": "markdown",
   "metadata": {},
   "source": [
    "This table consisting approval and rejection rate at each threshold can be used to determine the cutoff values for the probability of default."
   ]
  }
 ],
 "metadata": {
  "kernelspec": {
   "display_name": "Python 3",
   "language": "python",
   "name": "python3"
  },
  "language_info": {
   "codemirror_mode": {
    "name": "ipython",
    "version": 3
   },
   "file_extension": ".py",
   "mimetype": "text/x-python",
   "name": "python",
   "nbconvert_exporter": "python",
   "pygments_lexer": "ipython3",
   "version": "3.7.1"
  }
 },
 "nbformat": 4,
 "nbformat_minor": 2
}
